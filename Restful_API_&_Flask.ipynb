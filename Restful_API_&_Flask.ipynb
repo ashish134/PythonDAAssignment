{
  "nbformat": 4,
  "nbformat_minor": 0,
  "metadata": {
    "colab": {
      "provenance": [],
      "authorship_tag": "ABX9TyNZbFBTbH6HcvgGdChpZcAv",
      "include_colab_link": true
    },
    "kernelspec": {
      "name": "python3",
      "display_name": "Python 3"
    },
    "language_info": {
      "name": "python"
    }
  },
  "cells": [
    {
      "cell_type": "markdown",
      "metadata": {
        "id": "view-in-github",
        "colab_type": "text"
      },
      "source": [
        "<a href=\"https://colab.research.google.com/github/ashish134/PythonDAAssignment/blob/main/Restful_API_%26_Flask.ipynb\" target=\"_parent\"><img src=\"https://colab.research.google.com/assets/colab-badge.svg\" alt=\"Open In Colab\"/></a>"
      ]
    },
    {
      "cell_type": "markdown",
      "source": [
        "#Restful API & Flask Theory Questions"
      ],
      "metadata": {
        "id": "10Ha1z36MEAO"
      }
    },
    {
      "cell_type": "markdown",
      "source": [
        "1. What is a RESTful APP?\n",
        "\n",
        "\n",
        "*   A RESTful API (Representational State Transfer) is an architectural style for designing networked applications\n",
        "*   It is based on stateless communication, uses HTTP methods (GET, POST, PUT, DELETE), and typically works with JSON data. RESTful APIs are scalable, stateless, and lightweight, making them ideal for web services and applications.\n",
        "\n"
      ],
      "metadata": {
        "id": "W1dKO8N9MG6X"
      }
    },
    {
      "cell_type": "markdown",
      "source": [
        "2. Explain the concept of API specification.\n",
        "\n",
        "\n",
        "*   API specification is a document or description that outlines how an API is expected to behave. It defines the endpoints, request methods, parameters, response format, and status codes. This helps developers understand how to interact with the API and what results to expect.\n",
        "\n"
      ],
      "metadata": {
        "id": "dQUriBxYMQak"
      }
    },
    {
      "cell_type": "markdown",
      "source": [
        "3. What is Flask, and why is it popular for building APIs?\n",
        "*   Flask is a lightweight Python web framework used to build web applications and APIs. It is popular for its simplicity, flexibility, and minimal setup, which makes it an ideal choice for small to medium-sized projects. Flask is easy to extend with libraries and is highly customizable.\n",
        "\n"
      ],
      "metadata": {
        "id": "Wl4QSakgMXZi"
      }
    },
    {
      "cell_type": "markdown",
      "source": [
        "4. What is routing in Flask?\n",
        "*   LRouting in Flask is the process of defining URL patterns that map to specific functions (or views). Each route in Flask corresponds to an HTTP request type (GET, POST, etc.)and is used to handle requests and send appropriate responses.\n"
      ],
      "metadata": {
        "id": "hqaGxn5iMieV"
      }
    },
    {
      "cell_type": "markdown",
      "source": [
        "5. How do you create a simple Flask application?\n",
        "\n",
        "*   To create a simple Flask application, first install Flask using pip (pip install flask). Then, import Flask, create an instance of the Flask class, and define routes using decorators. Finally, use app.run() to start the server.\n"
      ],
      "metadata": {
        "id": "jyMCjB-FMqT2"
      }
    },
    {
      "cell_type": "markdown",
      "source": [
        "6. What are HTTP methods used in RESTful APIs?\n",
        "*   HTTP methods commonly used in RESTful APIs include GET (retrieve data), POST (create data), PUT (update data), DELETE (delete data), and PATCH (partially update data) These methods define the operations that can be performed on resources.\n",
        "\n"
      ],
      "metadata": {
        "id": "XLgRdnkoNhGn"
      }
    },
    {
      "cell_type": "markdown",
      "source": [
        "7. What is the purpose of the @app.route() decorator in Flask?\n",
        "\n",
        "\n",
        "*   The @app.route() decorator in Flask is used to define the URL patterns (routes) that the application will respond to.\n",
        "For example:\n",
        "```\n",
        "# @app.route('/home')\n",
        "def home():\n",
        "    return \"Welcome to the home page!\"\n",
        "```\n",
        "Here’s what it does:\n",
        "*   Associates a URL (like /home) with a function (home()).\n",
        "*   When a user visits /home, Flask runs the home() function and returns its response."
      ],
      "metadata": {
        "id": "GhToCusQOLqM"
      }
    },
    {
      "cell_type": "markdown",
      "source": [
        "8. What is the difference between GET and POST HTTP methods?\n",
        "The GET method retrieves data from the server and should not modify any data. POST, on the other hand, is used to send data to the server, typically to create or update resources. GET requests are generally cached, while POST requests are not"
      ],
      "metadata": {
        "id": "D0SFDNYvOsjK"
      }
    },
    {
      "cell_type": "markdown",
      "source": [
        "9. How do you handle errors in Flask APIs?\n",
        "Flask provides error handling via @app.errorhandler() or by manually raising exceptions within routes. Commonly, HTTP status codes like 404 (not found), 400 (bad request), and 500 (internal server error) are used to indicate different errors. Custom error messages can also be returned in the response."
      ],
      "metadata": {
        "id": "WOMmRVmgPGzb"
      }
    },
    {
      "cell_type": "markdown",
      "source": [
        "10. How do you connect Flask to a SQL database?\n",
        "Flask can be connected to a SQL database using libraries such as Flask-SQLAlchemy. First, install SQLAlchemy (pip install flask-sqlalchemy), configure the database URI, and create models representing the database tables. You can then query and manipulate the database using SQLAlchemy ORM methods."
      ],
      "metadata": {
        "id": "2O0dShzPPOSg"
      }
    },
    {
      "cell_type": "markdown",
      "source": [
        "11. What is the role of Flask-SQLAlchemy?\n",
        "Flask-SQLAlchemy is an extension for Flask that simplifies database interaction by integrating SQLAlchemy with Flask. It provides an ORM (Object-Relational Mapping) to map Python classes to database tables, making it easier to query and manage databases within Flask applications."
      ],
      "metadata": {
        "id": "vBpn8O4lPWxv"
      }
    },
    {
      "cell_type": "markdown",
      "source": [
        "12. What are Flask blueprints, and how are they useful?\n",
        "Flask blueprints allow you to organize your application into modular components. Each blueprint can contain routes, views, templates, and static files. This is useful for larger applications, as it helps in separating different parts of the application for better structure and maintainability."
      ],
      "metadata": {
        "id": "bU0XihhyPca4"
      }
    },
    {
      "cell_type": "markdown",
      "source": [
        "13. What is the purpose of Flasks request object?\n",
        "The request object in Flask is used to access incoming HTTP request data, including form data, JSON payloads, URL parameters, and headers. It is essential for handling data sent by clients when interacting with an API.\n"
      ],
      "metadata": {
        "id": "rYOthHkrPlJA"
      }
    },
    {
      "cell_type": "markdown",
      "source": [
        "14. How do you create a RESTful API endpoint using Flask?\n",
        "To create a RESTful API endpoint in Flask, define a function using the @app.route() decorator, specifying the HTTP method (e.g., GET or POST). The function will handle incoming requests and return a response, often in JSON format."
      ],
      "metadata": {
        "id": "G_1WFZGXPtI1"
      }
    },
    {
      "cell_type": "markdown",
      "source": [
        "15. What is the purpose of Flask's jsonify() function?\n",
        "The jsonify() function in Flask is used to convert Python dictionaries or lists into JSON format and set the appropriate response headers. This function makes it easier to send JSON responses from a Flask API."
      ],
      "metadata": {
        "id": "ik2VTEJBPz-y"
      }
    },
    {
      "cell_type": "markdown",
      "source": [
        "16. Explain Flask's url_for() function.\n",
        "url_for() is a Flask function used to generate a URL for a given endpoint or view function. This is useful for linking between different parts of the application, and it dynamically builds URLs based on the route names."
      ],
      "metadata": {
        "id": "eNZeOpdPQFXn"
      }
    },
    {
      "cell_type": "markdown",
      "source": [
        "17. How does Flask handle static files (CSS, JavaScript, etc.)?\n",
        "Flask serves static files like CSS, JavaScript, and images from a directory called \"static.\" By default, the static folder is accessible through the /static URL. Files placed in this folder can be referenced in HTML templates or returned directly by Flask."
      ],
      "metadata": {
        "id": "U1WdtAx6QN4u"
      }
    },
    {
      "cell_type": "markdown",
      "source": [
        "18. What is an API specification, and how does it help in building a Flask API?\n",
        "\n",
        "\n",
        "*   An API specification is a clear, written description of how an API works — what endpoints are available, what data it needs, and what it returns.\n",
        "In building a Flask API, an API spec helps by:\n",
        "*   Planning: You know what to build before coding.\n",
        "*   Consistency: Everyone follows the same structure.\n",
        "*   Communication: Makes it easy for teams and apps to understand and use your API\n",
        "*   Documentation: Can be used to auto-generate docs (like with Swagger)."
      ],
      "metadata": {
        "id": "Rx6w09fgQVdd"
      }
    },
    {
      "cell_type": "markdown",
      "source": [
        "19. What are HTTP status codes, and why are they important in a Flask API?\n",
        "*   LHTTP status codes are 3-digit numbers returned by a server to show the result of a request (like 200 for success, 404 for not found).\n",
        "In a Flask API, they are important because they:\n",
        "*   Tell the client what happened (success, error, etc.)\n",
        "*   LHelp with debugging\n",
        "*   LMake the API more reliable and user-friendly"
      ],
      "metadata": {
        "id": "xUdVnwOaQuLn"
      }
    },
    {
      "cell_type": "markdown",
      "source": [
        "20. How do you handle POST requests in Flask?\n",
        "*   LIn Flask, we can handle POST requests by defining a route that listens for them and using the request object to get the data sent by the client.\n",
        "Here’s a basic example\n",
        "```\n",
        "# from flask import Flask, request\n",
        "\n",
        "app = Flask(__name__)\n",
        "\n",
        "@app.route('/submit', methods=['POST'])\n",
        "def submit():\n",
        "    data = request.json  # Get JSON data from the request\n",
        "    # Process the data\n",
        "    return {'message': 'Data received', 'data': data}, 200\n",
        "\n",
        "if __name__ == '__main__':\n",
        "    app.run()\n",
        "```\n",
        "*   methods=['POST']: Specifies this route handles POST requests.\n",
        "*   Lrequest.json: Retrieves the data sent by the client in JSON format."
      ],
      "metadata": {
        "id": "GmmaHZLCRBQQ"
      }
    },
    {
      "cell_type": "markdown",
      "source": [
        "21. How would you secure a Flask APP?\n",
        "Flask API security can be implemented using various methods, including authentication (via tokens like JWT or OAuth), input validation, CORS handling, rate limiting, and encryption of sensitive data. Flask extensions like Flask-JWT and Flask-OAuth can help implement these security features."
      ],
      "metadata": {
        "id": "S1fdZ9B2RrOl"
      }
    },
    {
      "cell_type": "markdown",
      "source": [
        "22. What is the significance of the Flask-RESTful extension?\n",
        "Flask-RESTful is an extension that adds support for quickly building REST APIs. It provides tools for creating resources, handling HTTP methods, and organizing routes. This extension simplifies the process of building APIs by offering convenient features like request parsing and response formatting."
      ],
      "metadata": {
        "id": "vyVnSOdLRxTo"
      }
    },
    {
      "cell_type": "markdown",
      "source": [
        "23. What is the role of Flask's session object?\n",
        "The session object in Flask is used to store data between requests, typically for maintaining user sessions. Data stored in the session is usually saved on the client-side (in cookies) and can be used for tracking user activity or authentication."
      ],
      "metadata": {
        "id": "cZBXIbmtR2d2"
      }
    },
    {
      "cell_type": "markdown",
      "source": [
        "#Restful API & Flask Practical Questions"
      ],
      "metadata": {
        "id": "9nKnQA8XR93K"
      }
    },
    {
      "cell_type": "code",
      "source": [
        "#1. How do you create a basic Flask application?\n",
        "\n",
        "from flask import Flask\n",
        "app = Flask(__name__)\n",
        "\n",
        "@app.route('/')\n",
        "def home():\n",
        "    return 'Hello, Flask!'\n",
        "\n",
        "if __name__ == '__main__':\n",
        "    app.run(debug=True)"
      ],
      "metadata": {
        "id": "udcxZ7-gSJh5"
      },
      "execution_count": null,
      "outputs": []
    },
    {
      "cell_type": "code",
      "source": [
        "#2. How do you serve static files like images or CSS in Flask?\n",
        "\n",
        "from flask import Flask, send_from_directory\n",
        "app = Flask(__name__)\n",
        "\n",
        "@app.route('/static/')\n",
        "def send_static(filename):\n",
        "    return send_from_directory('static', filename)\n",
        "\n",
        "if __name__ == '__main__':\n",
        "    app.run(debug=True)"
      ],
      "metadata": {
        "id": "YnqQ4U88SK5X"
      },
      "execution_count": null,
      "outputs": []
    },
    {
      "cell_type": "code",
      "source": [
        "#3. How do you define different routes with different HTTP methods in Flask?\n",
        "from flask import Flask\n",
        "app = Flask(__name__)\n",
        "\n",
        "@app.route('/greet', methods=['GET'])\n",
        "def greet():\n",
        "    return \"Hello World!\"\n",
        "\n",
        "if __name__ == '__main__':\n",
        "    app.run(debug=True)"
      ],
      "metadata": {
        "id": "i_w8FJy2SK9m"
      },
      "execution_count": null,
      "outputs": []
    },
    {
      "cell_type": "code",
      "source": [
        "#4. How do you render HTML templates in Flask?\n",
        "from flask import Flask, render_template\n",
        "app = Flask(__name__)\n",
        "\n",
        "@app.route('/')\n",
        "def index():\n",
        "    return render_template('index.html')\n",
        "\n",
        "if __name__ == '__main__':\n",
        "    app.run(debug=True)"
      ],
      "metadata": {
        "id": "K5WL8hIASLBj"
      },
      "execution_count": null,
      "outputs": []
    },
    {
      "cell_type": "code",
      "source": [
        "#5. How can you generate URLs for routes in Flask using url_for?\n",
        "from flask import Flask, url_for\n",
        "app = Flask(__name__)\n",
        "\n",
        "@app.route('/home')\n",
        "def home():\n",
        "    return 'This is the home page.'\n",
        "\n",
        "@app.route('/')\n",
        "def index():\n",
        "    return f'Go to Home'\n",
        "\n",
        "if __name__ == '__main__':\n",
        "    app.run(debug=True)"
      ],
      "metadata": {
        "id": "gLr_4DbQSLFd"
      },
      "execution_count": null,
      "outputs": []
    },
    {
      "cell_type": "code",
      "source": [
        "#6. How do you handle forms in Flask?\n",
        "\n",
        "from flask import Flask, request, render_template\n",
        "app = Flask(__name__)\n",
        "\n",
        "@app.route('/submit', methods=['GET', 'POST'])\n",
        "def submit():\n",
        "    if request.method == 'POST':\n",
        "        name = request.form['name']\n",
        "        return f\"Hello {name}!\"\n",
        "    return render_template('form.html')\n",
        "\n",
        "if __name__ == '__main__':\n",
        "    app.run(debug=True)"
      ],
      "metadata": {
        "id": "k7CVrpICSLJm"
      },
      "execution_count": null,
      "outputs": []
    },
    {
      "cell_type": "code",
      "source": [
        "#7. How can you validate form data in Flask?\n",
        "from flask import Flask, request, flash, redirect, url_for\n",
        "app = Flask(__name__)\n",
        "app.secret_key = 'secret'\n",
        "\n",
        "@app.route('/login', methods=['POST'])\n",
        "def login():\n",
        "    username = request.form['username']\n",
        "    if not username:\n",
        "        flash('Username is required!')\n",
        "        return redirect(url_for('login'))\n",
        "    return 'Login successful'\n",
        "\n",
        "if __name__ == '__main__':\n",
        "    app.run(debug=True)"
      ],
      "metadata": {
        "id": "_C-0_8rHSLNR"
      },
      "execution_count": null,
      "outputs": []
    },
    {
      "cell_type": "code",
      "source": [
        "# 8. How do you manage sessions in Flask?\n",
        "\n",
        "from flask import Flask, session\n",
        "app = Flask(__name__)\n",
        "app.secret_key = 'secret'\n",
        "\n",
        "@app.route('/set_user')\n",
        "def set_user():\n",
        "    session['user'] = 'John'\n",
        "    return 'User set'\n",
        "\n",
        "@app.route('/get_user')\n",
        "def get_user():\n",
        "    return f'Logged in as {session.get(\"user\", \"Guest\")}'\n",
        "\n",
        "if __name__ == '__main__':\n",
        "    app.run(debug=True)"
      ],
      "metadata": {
        "id": "vuwfSzx6SLTB"
      },
      "execution_count": null,
      "outputs": []
    },
    {
      "cell_type": "code",
      "source": [
        "#9. How do you redirect to a different route in Flask?\n",
        "from flask import Flask, redirect, url_for\n",
        "app = Flask(__name__)\n",
        "\n",
        "@app.route('/redirect_home')\n",
        "def redirect_home():\n",
        "    return redirect(url_for('home'))\n",
        "\n",
        "@app.route('/home')\n",
        "def home():\n",
        "    return 'This is the home page.'\n",
        "\n",
        "if __name__ == '__main__':\n",
        "    app.run(debug=True)"
      ],
      "metadata": {
        "colab": {
          "base_uri": "https://localhost:8080/"
        },
        "id": "sIlWJSbISLa8",
        "outputId": "13b8cd8a-fa95-4623-e1da-6db39cf103bf"
      },
      "execution_count": null,
      "outputs": [
        {
          "output_type": "stream",
          "name": "stdout",
          "text": [
            " * Serving Flask app '__main__'\n",
            " * Debug mode: on\n"
          ]
        },
        {
          "output_type": "stream",
          "name": "stderr",
          "text": [
            "INFO:werkzeug:\u001b[31m\u001b[1mWARNING: This is a development server. Do not use it in a production deployment. Use a production WSGI server instead.\u001b[0m\n",
            " * Running on http://127.0.0.1:5000\n",
            "INFO:werkzeug:\u001b[33mPress CTRL+C to quit\u001b[0m\n",
            "INFO:werkzeug: * Restarting with watchdog (inotify)\n"
          ]
        }
      ]
    },
    {
      "cell_type": "code",
      "source": [
        "# 10. How do you handle errors in Flask (e.g., 404)?\n",
        "from flask import Flask\n",
        "app = Flask(__name__)\n",
        "\n",
        "@app.errorhandler(404)\n",
        "def page_not_found(e):\n",
        "    return 'Page not found', 404\n",
        "\n",
        "@app.route('/')\n",
        "def home():\n",
        "    return 'Welcome to the home page.'\n",
        "\n",
        "if __name__ == '__main__':\n",
        "    app.run(debug=True)"
      ],
      "metadata": {
        "id": "s2n9IRr7TqXB"
      },
      "execution_count": null,
      "outputs": []
    },
    {
      "cell_type": "code",
      "source": [
        "# 11. How do you structure a Flask app using Blueprints?\n",
        "\n",
        "from flask import Flask, Blueprint\n",
        "app = Flask(__name__)\n",
        "\n",
        "bp = Blueprint('home', __name__)\n",
        "\n",
        "@bp.route('/')\n",
        "def index():\n",
        "    return 'Home Page'\n",
        "\n",
        "app.register_blueprint(bp)\n",
        "\n",
        "if __name__ == '__main__':\n",
        "    app.run(debug=True)"
      ],
      "metadata": {
        "id": "1cd2tme-TttU"
      },
      "execution_count": null,
      "outputs": []
    },
    {
      "cell_type": "code",
      "source": [
        "#12. How do you define a custom Jinja filter in Flask?\n",
        "\n",
        "from flask import Flask\n",
        "app = Flask(__name__)\n",
        "\n",
        "@app.template_filter('reverse')\n",
        "def reverse_filter(s):\n",
        "    return s[::-1]\n",
        "\n",
        "@app.route('/')\n",
        "def home():\n",
        "    return render_template('home.html', name='Flask')\n",
        "\n",
        "if __name__ == '__main__':\n",
        "    app.run(debug=True)"
      ],
      "metadata": {
        "id": "lwOKPqG4Ttzz"
      },
      "execution_count": null,
      "outputs": []
    },
    {
      "cell_type": "code",
      "source": [
        "#13. HOW can you redirect with query parameters in Flask?\n",
        "from flask import Flask, redirect, url_for\n",
        "app = Flask(__name__)\n",
        "\n",
        "@app.route('/redirect_with_query')\n",
        "def redirect_with_query():\n",
        "    return redirect(url_for('home', username='John'))\n",
        "\n",
        "@app.route('/home')\n",
        "def home():\n",
        "    return f'Welcome, {request.args.get(\"username\")}'\n",
        "\n",
        "if __name__ == '__main__':\n",
        "    app.run(debug=True)"
      ],
      "metadata": {
        "id": "ejgjKgE0Tqgv"
      },
      "execution_count": null,
      "outputs": []
    },
    {
      "cell_type": "code",
      "source": [
        "#14. How do you return JSON responses in Flask?\n",
        "from flask import Flask, jsonify\n",
        "app = Flask(__name__)\n",
        "\n",
        "@app.route('/data')\n",
        "def data():\n",
        "    return jsonify({\"name\": \"Flask\", \"version\": \"2.0\"})\n",
        "\n",
        "if __name__ == '__main__':\n",
        "    app.run(debug=True)"
      ],
      "metadata": {
        "id": "_-YjgpEkUfWY"
      },
      "execution_count": null,
      "outputs": []
    },
    {
      "cell_type": "code",
      "source": [
        "  #15. How do you capture URL parameters in Flask?\n",
        "\n",
        "from flask import Flask\n",
        "app = Flask(__name__)\n",
        "\n",
        "@app.route('/user/')\n",
        "def user(username):\n",
        "    return f\"Hello {username}!\"\n",
        "\n",
        "if __name__ == '__main__':\n",
        "    app.run(debug=True)"
      ],
      "metadata": {
        "id": "-ZfcYI_EUfib"
      },
      "execution_count": null,
      "outputs": []
    }
  ]
}