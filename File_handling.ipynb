{
  "nbformat": 4,
  "nbformat_minor": 0,
  "metadata": {
    "colab": {
      "provenance": [],
      "authorship_tag": "ABX9TyO/6GPZhDguO9lpqXUnRaNd",
      "include_colab_link": true
    },
    "kernelspec": {
      "name": "python3",
      "display_name": "Python 3"
    },
    "language_info": {
      "name": "python"
    }
  },
  "cells": [
    {
      "cell_type": "markdown",
      "metadata": {
        "id": "view-in-github",
        "colab_type": "text"
      },
      "source": [
        "<a href=\"https://colab.research.google.com/github/ashish134/PythonDAAssignment/blob/main/File_handling.ipynb\" target=\"_parent\"><img src=\"https://colab.research.google.com/assets/colab-badge.svg\" alt=\"Open In Colab\"/></a>"
      ]
    },
    {
      "cell_type": "markdown",
      "source": [
        "#Files, exceptional handling, logging and\n",
        "#memory management Questions"
      ],
      "metadata": {
        "id": "L52Yew7bo0uG"
      }
    },
    {
      "cell_type": "markdown",
      "source": [],
      "metadata": {
        "id": "zm8RNu6Yr1I9"
      }
    },
    {
      "cell_type": "markdown",
      "source": [
        "1. What is the difference between interpreted and compiled languages ?\n",
        "\n",
        "*   Interpreted languages, such as Python, run code line-by-line via an interpreter. This makes debugging simpler and the code more portable, though it may run slower.\n",
        "*   Compiled languages, like C or C++, are transformed into machine code before they run, offering better speed and performance but less flexibility during development.\n"
      ],
      "metadata": {
        "id": "CTUY98-Wo_Um"
      }
    },
    {
      "cell_type": "markdown",
      "source": [
        "2. What is exception handling in Python?\n",
        "\n",
        "*   It’s a method to manage unexpected errors during code execution. Rather than crashing, Python lets you catch and manage exceptions using try, except, else, and finally blocks, allowing the program to keep running.\n",
        "\n",
        "\n"
      ],
      "metadata": {
        "id": "fRckNcJHr5B9"
      }
    },
    {
      "cell_type": "markdown",
      "source": [
        "3. What is the purpose of the finally block in exception handling ?\n",
        "\n",
        "*   he finally block ensures that specific code is always executed, regardless of whether an exception occurred. It’s often used for cleanup tasks like closing files or releasing resources.\n",
        "\n"
      ],
      "metadata": {
        "id": "BUZM_ViCr5Wm"
      }
    },
    {
      "cell_type": "markdown",
      "source": [
        "4. What is logging in Python ?\n",
        "\n",
        "\n",
        "*   Logging tracks events that occur while a program runs. Python’s logging module enables recording messages at various levels (debug, info, warning, error, critical) to aid in troubleshooting and understanding application behavior.\n",
        "\n"
      ],
      "metadata": {
        "id": "nqugbCH2r5jz"
      }
    },
    {
      "cell_type": "markdown",
      "source": [
        "5. What is the significance of the __del__ method in Python ?\n",
        "\n",
        "\n",
        "*   The __del__ method is a destructor that gets called when an object is about to be destroyed. It’s typically used to free up resources or perform final cleanup actions.\n",
        "\n"
      ],
      "metadata": {
        "id": "-BCjy3yEr5v5"
      }
    },
    {
      "cell_type": "markdown",
      "source": [
        "6. What is the difference between import and from ... import in Python ?\n",
        "\n",
        "*   Using import module brings in the whole module, so you access its contents with the module name (e.g., module.function()).\n",
        "\n",
        "*   Using from module import function lets you import specific items directly, so you can use them without the module prefix.\n",
        "\n"
      ],
      "metadata": {
        "id": "XgNfBhATr553"
      }
    },
    {
      "cell_type": "markdown",
      "source": [
        "7.  How can you handle multiple exceptions in Python ?\n",
        "\n",
        "*   Multiple exceptions can be handled by listing them in a tuple within a single except block, or by using multiple except blocks for different exception types.\n",
        "\n",
        "*   try:\n",
        "except (TypeError, ValueError) as e: print(\"Caught an exception:\", e)\n",
        "\n",
        "\n",
        "\n"
      ],
      "metadata": {
        "id": "H4NWLurXr6C1"
      }
    },
    {
      "cell_type": "markdown",
      "source": [
        "8. What is the purpose of the with statement when handling files in Python ?\n",
        "\n",
        "*   The with statement simplifies file handling by automatically managing file closing, even if errors occur during processing. It ensures better resource management.\n",
        "\n",
        "*   with open('file.txt', 'r') as f: data = f.read()\n",
        "\n",
        "\n",
        "\n"
      ],
      "metadata": {
        "id": "7bktRpWir6I2"
      }
    },
    {
      "cell_type": "markdown",
      "source": [
        "9. What is the difference between multithreading and multiprocessing ?\n",
        "\n",
        "*   Multithreading: Multiple threads run in the same process and share memory. Best for I/O-bound tasks. Multiprocessing: Multiple processes run independently with separate memory. Ideal for CPU-bound tasks.\n",
        "\n"
      ],
      "metadata": {
        "id": "rWLJFU57r6Oc"
      }
    },
    {
      "cell_type": "markdown",
      "source": [
        "10. What are the advantages of using logging in a program ?\n",
        "\n",
        "*   Records runtime events\n",
        "*   Supports different severity levels\n",
        "*   Can log to files, consoles, or remote servers\n",
        "*   More flexible and powerful than print()\n",
        "\n"
      ],
      "metadata": {
        "id": "szzT2SV4r6Tw"
      }
    },
    {
      "cell_type": "markdown",
      "source": [
        "11. What is memory management in Python ?\n",
        "\n",
        "*   Python handles memory automatically using reference counting and a garbage collector. It allocates memory for new objects and reclaims it when objects are no longer in use, helping prevent memory leaks.\n",
        "\n"
      ],
      "metadata": {
        "id": "SdsihD7qr6aF"
      }
    },
    {
      "cell_type": "markdown",
      "source": [
        "12. What are the basic steps involved in exception handling in Python ?\n",
        "\n",
        "*   Following are the basic steps involved in exception handeling: try: Wrap code that might raise an error except: Handle specific exceptions else: Run code if no exception occurs finally: Always run cleanup code\n",
        "\n"
      ],
      "metadata": {
        "id": "MxfKoCrMr6eL"
      }
    },
    {
      "cell_type": "markdown",
      "source": [
        "13. Why is memory management important in Python ?\n",
        "\n",
        "*   Efficient memory management ensures that your program uses system resources wisely, avoids memory leaks, and maintains performance, especially in long-running or data-intensive applications.\n",
        "\n"
      ],
      "metadata": {
        "id": "kbrYlLc4r6iE"
      }
    },
    {
      "cell_type": "markdown",
      "source": [
        "14. What is the role of try and except in exception handling ?\n",
        "\n",
        "\n",
        "*   Beow are the role of try and except in exception handling: try: Contains code that might raise an exception except: Catches and handles the exception, preventing the program from crashing\n",
        "\n"
      ],
      "metadata": {
        "id": "HBYAhiv0r6lh"
      }
    },
    {
      "cell_type": "markdown",
      "source": [
        "15. How does Python's garbage collection system work ?\n",
        "\n",
        "*   Python uses reference counting to track object usage. When an object’s reference count drops to zero, it’s deleted. It also uses a cyclic garbage collector to detect and clean up reference cycles.\n",
        "\n"
      ],
      "metadata": {
        "id": "hoxyoXehr6o5"
      }
    },
    {
      "cell_type": "markdown",
      "source": [
        "16. What is the purpose of the else block in exception handling ?\n",
        "\n",
        "*   The else block runs only if the try block doesn’t raise an exception. It’s useful for code that should only execute when no errors occur.\n",
        "\n"
      ],
      "metadata": {
        "id": "rAXshNr_r6sB"
      }
    },
    {
      "cell_type": "markdown",
      "source": [
        "17. What are the common logging levels in Python ?\n",
        "\n",
        "*   DEBUG: Detailed information for diagnosing problems INFO: General events confirming things are working WARNING: Something unexpected, but the program still works ERROR: A serious problem that prevents part of the program from working CRITICAL: A severe error causing the program to stop.\n",
        "\n"
      ],
      "metadata": {
        "id": "z3R3CmAkr6vJ"
      }
    },
    {
      "cell_type": "markdown",
      "source": [
        "18. What is the difference between os.fork() and multiprocessing in Python ?\n",
        "\n",
        "*   os.fork(): Low-level, Unix-only method to create a child process. multiprocessing: High-level, cross-platform module that simplifies process creation and communication.\n",
        "\n"
      ],
      "metadata": {
        "id": "nd7YpUc0r6yL"
      }
    },
    {
      "cell_type": "markdown",
      "source": [
        "19. What is the importance of closing a file in Python ?\n",
        "\n",
        "*   Closing a file ensures that all data is written to disk and system resources are released. Failing to close files can lead to data corruption or memory leaks.\n",
        "\n"
      ],
      "metadata": {
        "id": "AJdeToBdr61N"
      }
    },
    {
      "cell_type": "markdown",
      "source": [
        "20.  What is the difference between file.read() and file.readline() in Python?\n",
        "\n",
        "*   ead(): Reads the entire file content as a single string readline(): Reads one line at a time, useful for large files.\n",
        "\n"
      ],
      "metadata": {
        "id": "a2rgm5Bor64c"
      }
    },
    {
      "cell_type": "markdown",
      "source": [
        "21. What is the logging module in Python used for ?\n",
        "\n",
        "*   The logging module provides a flexible framework for emitting log messages from Python programs. It helps track events, errors, and system behavior during execution.\n",
        "\n"
      ],
      "metadata": {
        "id": "-4yLuuM2r67X"
      }
    },
    {
      "cell_type": "markdown",
      "source": [
        "22. What is the os module in Python used for in file handling ?\n",
        "\n",
        "*   The os module allows interaction with the operating system. In file handling, it helps with tasks like checking file existence, creating directories, renaming, and deleting files.\n",
        "\n"
      ],
      "metadata": {
        "id": "f8FgXJ-yr6-m"
      }
    },
    {
      "cell_type": "markdown",
      "source": [
        "23. What are the challenges associated with memory management in Python ?\n",
        "\n",
        "*   Detecting and cleaning circular references. Managing memory in large-scale applications. Avoiding memory leaks due to lingering references. Balancing performance with memory usage.\n",
        "\n"
      ],
      "metadata": {
        "id": "WAE-DzRjr7Bv"
      }
    },
    {
      "cell_type": "markdown",
      "source": [
        "24. F  How do you raise an exception manually in Python ?\n",
        "\n",
        "*   We can raise exceptions using the raise keyword to signal an error intentionally: raise ValueError(\"Invalid input provided\")\n",
        "\n"
      ],
      "metadata": {
        "id": "sHgoipoOr7FR"
      }
    },
    {
      "cell_type": "markdown",
      "source": [
        "25. Why is it important to use multithreading in certain applications?\n",
        "\n",
        "*   Multithreading is useful in I/O-bound applications like web servers or file operations. It allows multiple tasks to run concurrently, improving responsiveness and performance.\n"
      ],
      "metadata": {
        "id": "7KsLSyoLtze3"
      }
    },
    {
      "cell_type": "markdown",
      "source": [
        "#Practical Questions"
      ],
      "metadata": {
        "id": "GJHYOQkcyEBg"
      }
    },
    {
      "cell_type": "code",
      "source": [
        "#1. How can you open a file for writing in Python and write a string to it ?\n",
        "with open(\"practfile.txt\", \"w\") as file:\n",
        "    file.write(\" Hi, I’m Ashish. I’m currently working as an Automation Tester and learning to become a Data Analyst.\")"
      ],
      "metadata": {
        "id": "MTjEmBfqyKG5"
      },
      "execution_count": 8,
      "outputs": []
    },
    {
      "cell_type": "code",
      "source": [
        "#2. Write a Python program to read the contents of a file and print each line\n",
        "with open(\"practfile.txt\", \"r\") as f:\n",
        "    for line in f:\n",
        "        print(line.strip())"
      ],
      "metadata": {
        "colab": {
          "base_uri": "https://localhost:8080/"
        },
        "id": "H_lDImN4yMyE",
        "outputId": "2c92b1e3-fbf5-412f-a15f-2cfade5e985f"
      },
      "execution_count": 9,
      "outputs": [
        {
          "output_type": "stream",
          "name": "stdout",
          "text": [
            "Hi, I’m Ashish. I’m currently working as an Automation Tester and learning to become a Data Analyst.\n"
          ]
        }
      ]
    },
    {
      "cell_type": "code",
      "source": [
        "#3. F How would you handle a case where the file doesn't exist while trying to open it for reading\n",
        "try:\n",
        "    with open(\"non_existent_file.txt\", \"r\") as file:\n",
        "        content = file.read()\n",
        "except FileNotFoundError:\n",
        "    print(\"File not found.\")"
      ],
      "metadata": {
        "colab": {
          "base_uri": "https://localhost:8080/"
        },
        "id": "OqpDyT0zyM32",
        "outputId": "c86b3029-9e33-4f50-d210-946946ad1421"
      },
      "execution_count": 10,
      "outputs": [
        {
          "output_type": "stream",
          "name": "stdout",
          "text": [
            "File not found.\n"
          ]
        }
      ]
    },
    {
      "cell_type": "code",
      "source": [
        "#4. Write a Python script that reads from one file and writes its content to another file\n",
        "# Define source and destination file paths\n",
        "source_file = \"practfile.txt\"\n",
        "destination_file = \"example.txt\"\n",
        "\n",
        "try:\n",
        "    # Open the source file for reading\n",
        "    with open(source_file, \"r\") as src:\n",
        "        content = src.read()\n",
        "\n",
        "    # Open the destination file for writing\n",
        "    with open(destination_file, \"w\") as dest:\n",
        "        dest.write(content)\n",
        "\n",
        "    print(f\"Content successfully copied from '{source_file}' to '{destination_file}'.\")\n",
        "\n",
        "except FileNotFoundError:\n",
        "    print(f\"Error: The file '{source_file}' does not exist.\")\n",
        "except IOError as e:\n",
        "    print(f\"An I/O error occurred: {e}\")"
      ],
      "metadata": {
        "colab": {
          "base_uri": "https://localhost:8080/"
        },
        "id": "wMNGrMUjyM86",
        "outputId": "d897ad3b-5371-4843-a92a-daaf0ec891a6"
      },
      "execution_count": 11,
      "outputs": [
        {
          "output_type": "stream",
          "name": "stdout",
          "text": [
            "Content successfully copied from 'practfile.txt' to 'example.txt'.\n"
          ]
        }
      ]
    },
    {
      "cell_type": "code",
      "source": [
        "# we can see example file here\n",
        "with open(\"example.txt\", \"r\") as f:\n",
        "    for line in f:\n",
        "        print(line.strip())"
      ],
      "metadata": {
        "colab": {
          "base_uri": "https://localhost:8080/"
        },
        "id": "eyJgPgk53sMe",
        "outputId": "e60b6624-97e5-4d31-c4f8-89f5e4b4adde"
      },
      "execution_count": 12,
      "outputs": [
        {
          "output_type": "stream",
          "name": "stdout",
          "text": [
            "Hi, I’m Ashish. I’m currently working as an Automation Tester and learning to become a Data Analyst.\n"
          ]
        }
      ]
    },
    {
      "cell_type": "code",
      "source": [
        "#5. How would you catch and handle division by zero error in Python\n",
        "try:\n",
        "    numerator = 100\n",
        "    denominator = 0\n",
        "    result = numerator / denominator\n",
        "    print(f\"Result: {result}\")\n",
        "except ZeroDivisionError:\n",
        "    print(\"Error: cannotbe  divide by zero.\")\n"
      ],
      "metadata": {
        "colab": {
          "base_uri": "https://localhost:8080/"
        },
        "id": "u-FZ4khHyNCp",
        "outputId": "67ebec3b-a07f-4001-9269-33cd29bc651f"
      },
      "execution_count": 13,
      "outputs": [
        {
          "output_type": "stream",
          "name": "stdout",
          "text": [
            "Error: cannotbe  divide by zero.\n"
          ]
        }
      ]
    },
    {
      "cell_type": "code",
      "source": [
        "#6. Write a Python program that logs an error message to a log file when a division by zero exception occurs\n",
        "import logging\n",
        "\n",
        "# Configure logging to write to a file\n",
        "logging.basicConfig(\n",
        "    filename=\"error_log.txt\",\n",
        "    level=logging.ERROR,\n",
        "    format=\"%(asctime)s - %(levelname)s - %(message)s\"\n",
        ")\n",
        "def divide(a, b):\n",
        "    try:\n",
        "        result = a / b\n",
        "        print(f\"Result: {result}\")\n",
        "    except ZeroDivisionError as e:\n",
        "        logging.error(\"Attempted to divide by zero: %s\", e)\n",
        "        print(\"Error: Cannot divide by zero.\")\n",
        "# Example usage\n",
        "divide(10, 0)\n"
      ],
      "metadata": {
        "colab": {
          "base_uri": "https://localhost:8080/"
        },
        "id": "20nOmJbCyNGb",
        "outputId": "32e6437c-149b-4e37-81fb-ebebe13897fe"
      },
      "execution_count": 17,
      "outputs": [
        {
          "output_type": "stream",
          "name": "stderr",
          "text": [
            "ERROR:root:Attempted to divide by zero: division by zero\n"
          ]
        },
        {
          "output_type": "stream",
          "name": "stdout",
          "text": [
            "Error: Cannot divide by zero.\n"
          ]
        }
      ]
    },
    {
      "cell_type": "code",
      "source": [
        "#7. How do you log information at different levels (INFO, ERROR, WARNING) in Python using the logging module\n",
        "import logging\n",
        "\n",
        "logging.basicConfig(filename=\"multi_level.log\", level=logging.DEBUG, format=\"%(levelname)s: %(message)s\")\n",
        "\n",
        "logging.info(\"Informational message\")\n",
        "logging.warning(\"This is a warning\")\n",
        "logging.error(\"An error has occurred\")\n"
      ],
      "metadata": {
        "colab": {
          "base_uri": "https://localhost:8080/"
        },
        "id": "G8_QgjssyNKb",
        "outputId": "207227a8-e586-47a1-d413-8f47a18f4d0c"
      },
      "execution_count": 18,
      "outputs": [
        {
          "output_type": "stream",
          "name": "stderr",
          "text": [
            "WARNING:root:This is a warning\n",
            "ERROR:root:An error has occurred\n"
          ]
        }
      ]
    },
    {
      "cell_type": "code",
      "source": [
        "#8. F Write a program to handle a file opening error using exception handling\n",
        "try:\n",
        "    with open(\"maybe_missing.txt\", \"r\") as file:\n",
        "        print(file.read())\n",
        "except FileNotFoundError:\n",
        "    print(\"the file you trying to see , File not found.\")\n",
        "except Exception as e:\n",
        "    print(f\"Some other error occurred: {e}\")"
      ],
      "metadata": {
        "colab": {
          "base_uri": "https://localhost:8080/"
        },
        "id": "Bd9T6r1MyNOV",
        "outputId": "1ee8d630-8b6d-4aea-e2d0-9639288266eb"
      },
      "execution_count": 20,
      "outputs": [
        {
          "output_type": "stream",
          "name": "stdout",
          "text": [
            "the file you trying to see , File not found.\n"
          ]
        }
      ]
    },
    {
      "cell_type": "code",
      "source": [
        "#9.  How can you read a file line by line and store its content in a list in Python\n",
        "filename = \"practfile.txt\"\n",
        "try:\n",
        "    with open(filename, \"r\") as file:\n",
        "        lines = [line.strip() for line in file]\n",
        "    print(lines)\n",
        "except FileNotFoundError:\n",
        "    print(f\"Error: The file '{filename}' was not found.\")"
      ],
      "metadata": {
        "colab": {
          "base_uri": "https://localhost:8080/"
        },
        "id": "0UUAtOOyyNSG",
        "outputId": "53adcecb-2fcd-4c44-ca70-e902ea3e1ddc"
      },
      "execution_count": 21,
      "outputs": [
        {
          "output_type": "stream",
          "name": "stdout",
          "text": [
            "['Hi, I’m Ashish. I’m currently working as an Automation Tester and learning to become a Data Analyst.']\n"
          ]
        }
      ]
    },
    {
      "cell_type": "code",
      "source": [
        "#10. How can you append data to an existing file in Python\n",
        "filename = \"example.txt\"\n",
        "data_to_append = \"\\nThis is a new line of text just got appended\"\n",
        "try:\n",
        "    with open(filename, \"a\") as file:\n",
        "        file.write(data_to_append + \"\\n\")\n",
        "    print(\"Data appended successfully.\")\n",
        "except Exception as e:\n",
        "    print(f\"An error occurred: {e}\")\n"
      ],
      "metadata": {
        "colab": {
          "base_uri": "https://localhost:8080/"
        },
        "id": "S40PT8QhyNVx",
        "outputId": "e4c07a92-1cab-440f-9d30-9274351bd062"
      },
      "execution_count": 22,
      "outputs": [
        {
          "output_type": "stream",
          "name": "stdout",
          "text": [
            "Data appended successfully.\n"
          ]
        }
      ]
    },
    {
      "cell_type": "code",
      "source": [
        "\n",
        "with open(\"example.txt\", \"r\") as file:\n",
        "    for line in file:\n",
        "        print(line.strip())"
      ],
      "metadata": {
        "colab": {
          "base_uri": "https://localhost:8080/"
        },
        "id": "n7IO09y_5sp2",
        "outputId": "f7367a67-47b0-45a9-d6e0-8b96737980d9"
      },
      "execution_count": 23,
      "outputs": [
        {
          "output_type": "stream",
          "name": "stdout",
          "text": [
            "Hi, I’m Ashish. I’m currently working as an Automation Tester and learning to become a Data Analyst.\n",
            "This is a new line of text just got appended\n"
          ]
        }
      ]
    },
    {
      "cell_type": "code",
      "source": [
        "#11. Write a Python program that uses a try-except block to handle an error when attempting to access a\n",
        "#dictionary key that doesn't exist\n",
        "# Define a sample dictionary\n",
        "person = {\n",
        "    \"name\": \"Ashish singh\",\n",
        "    \"age\": 25\n",
        "}\n",
        "# Attempt to access a non-existent key\n",
        "try:\n",
        "    print(\"Name:\", person[\"name\"])\n",
        "    print(\"Occupation:\", person[\"occupation\"])  # This key doesn't exist\n",
        "except KeyError as e:\n",
        "    print(f\"Error: The key '{e}' does not exist in the dictionary.\")"
      ],
      "metadata": {
        "colab": {
          "base_uri": "https://localhost:8080/"
        },
        "id": "Je42Zm0ryNZc",
        "outputId": "9a36fc29-a583-4b33-d84f-928273268c7c"
      },
      "execution_count": 24,
      "outputs": [
        {
          "output_type": "stream",
          "name": "stdout",
          "text": [
            "Name: Ashish singh\n",
            "Error: The key ''occupation'' does not exist in the dictionary.\n"
          ]
        }
      ]
    },
    {
      "cell_type": "code",
      "source": [
        "#12. Write a program that demonstrates using multiple except blocks to handle different types of exceptions\n",
        "def exception_demo():\n",
        "    try:\n",
        "        # Trigger a ValueError\n",
        "        number = int(input(\"Enter a number: \"))\n",
        "\n",
        "        # Trigger a ZeroDivisionError\n",
        "        result = 10 / number\n",
        "\n",
        "        # Trigger a KeyError\n",
        "        sample_dict = {\"a\": 1, \"b\": 2}\n",
        "        print(sample_dict[\"c\"])\n",
        "\n",
        "    except ValueError:\n",
        "        print(\"You did not enter a valid integer.\")\n",
        "\n",
        "    except ZeroDivisionError:\n",
        "        print(\"Division by zero is not allowed.\")\n",
        "\n",
        "    except KeyError as e:\n",
        "        print(f\"KeyError: The key '{e}' does not exist in the dictionary.\")\n",
        "\n",
        "    except Exception as e:\n",
        "        print(f\"An unexpected error occurred: {e}\")\n",
        "\n",
        "# Run the function\n",
        "exception_demo()"
      ],
      "metadata": {
        "colab": {
          "base_uri": "https://localhost:8080/"
        },
        "id": "n-kZVO-SyNdH",
        "outputId": "9314b539-43de-4a19-aa01-d726ac59bce2"
      },
      "execution_count": 26,
      "outputs": [
        {
          "output_type": "stream",
          "name": "stdout",
          "text": [
            "Enter a number: 0\n",
            "Division by zero is not allowed.\n"
          ]
        }
      ]
    },
    {
      "cell_type": "code",
      "source": [
        "#13.  How would you check if a file exists before attempting to read it in Python\n",
        "import os\n",
        "\n",
        "file_path = \"example.txt\"\n",
        "\n",
        "if os.path.exists(file_path):\n",
        "    with open(file_path, 'r') as file:\n",
        "        content = file.read()\n",
        "        print(content)\n",
        "else:\n",
        "    print(f\"File does not exist.\")"
      ],
      "metadata": {
        "colab": {
          "base_uri": "https://localhost:8080/"
        },
        "id": "5mrQZnUZyNgz",
        "outputId": "11bce09e-83bf-46d9-8d77-9e770d957b01"
      },
      "execution_count": 27,
      "outputs": [
        {
          "output_type": "stream",
          "name": "stdout",
          "text": [
            " Hi, I’m Ashish. I’m currently working as an Automation Tester and learning to become a Data Analyst.\n",
            "This is a new line of text just got appended\n",
            "\n"
          ]
        }
      ]
    },
    {
      "cell_type": "code",
      "source": [
        "#14. Write a program that uses the logging module to log both informational and error messages\n",
        "import logging\n",
        "\n",
        "logging.basicConfig(filename=\"log.txt\", level=logging.INFO, format=\"%(levelname)s: %(message)s\")\n",
        "\n",
        "def divide(a, b):\n",
        "    try:\n",
        "        result = a / b\n",
        "        logging.info(f\"{a} / {b} = {result}\")\n",
        "    except ZeroDivisionError:\n",
        "        logging.error(\"Division by zero.\")\n",
        "    except Exception as e:\n",
        "        logging.error(f\"Error: {e}\")\n",
        "\n",
        "divide(10, 2)\n",
        "divide(10, 0)\n",
        "divide(\"10\", 2)"
      ],
      "metadata": {
        "id": "dNoUzgla7C8J"
      },
      "execution_count": null,
      "outputs": []
    },
    {
      "cell_type": "code",
      "source": [
        "#15. Write a Python program that prints the content of a file and handles the case when the file is empty\n",
        "def read_file(filename):\n",
        "    try:\n",
        "        with open(filename, 'r') as file:\n",
        "            content = file.read()\n",
        "            if content.strip() == \"\":\n",
        "                print(\"The file is empty.\")\n",
        "            else:\n",
        "                print(\"File content:\")\n",
        "                print(content)\n",
        "    except FileNotFoundError:\n",
        "        print(\"The file does not exist.\")\n",
        "    except Exception as e:\n",
        "        print(f\"An error occurred: {e}\")\n",
        "\n",
        "# Example usage\n",
        "read_file(\"example.txt\")"
      ],
      "metadata": {
        "colab": {
          "base_uri": "https://localhost:8080/"
        },
        "id": "7ZGjIhJTyNn8",
        "outputId": "592b8756-d89b-476c-cd3b-acdac76361b9"
      },
      "execution_count": 29,
      "outputs": [
        {
          "output_type": "stream",
          "name": "stdout",
          "text": [
            "File content:\n",
            " Hi, I’m Ashish. I’m currently working as an Automation Tester and learning to become a Data Analyst.\n",
            "This is a new line of text just got appended\n",
            "\n"
          ]
        }
      ]
    },
    {
      "cell_type": "code",
      "source": [
        "#16. Demonstrate how to use memory profiling to check the memory usage of a small program\n",
        "pip install memory-profiler\n",
        "from memory_profiler import profile\n",
        "@profile\n",
        "def compute():\n",
        "    data = [x * 3 for x in range(100000)]\n",
        "    return sum(data)\n",
        "\n",
        "if __name__ == \"__main__\":\n",
        "    compute()"
      ],
      "metadata": {
        "id": "pDVQwXgW8FC8"
      },
      "execution_count": null,
      "outputs": []
    },
    {
      "cell_type": "code",
      "source": [
        "#17. Write a Python program to create and write a list of numbers to a file, one number per lineF\n",
        "nums = [1, 2, 3, 4, 5, 10, 20, 30]\n",
        "\n",
        "with open(\"numbers.txt\", \"w\") as f:\n",
        "    f.writelines(f\"{n}\\n\" for n in nums)\n",
        "\n",
        "print(\"Numbers saved to numbers.txt.\")\n"
      ],
      "metadata": {
        "colab": {
          "base_uri": "https://localhost:8080/"
        },
        "id": "0xxV1fsUyNu2",
        "outputId": "c7248365-1bda-43ab-f225-bd9f8a10c235"
      },
      "execution_count": 31,
      "outputs": [
        {
          "output_type": "stream",
          "name": "stdout",
          "text": [
            "Numbers saved to numbers.txt.\n"
          ]
        }
      ]
    },
    {
      "cell_type": "code",
      "source": [
        "\n",
        "with open(\"numbers.txt\", \"r\") as file:\n",
        "    for line in file:\n",
        "        print(line.strip())"
      ],
      "metadata": {
        "colab": {
          "base_uri": "https://localhost:8080/"
        },
        "id": "k0wMJiIt8fXN",
        "outputId": "3f4dc0cf-4ac7-4397-fb3d-5b837df0ef85"
      },
      "execution_count": 32,
      "outputs": [
        {
          "output_type": "stream",
          "name": "stdout",
          "text": [
            "1\n",
            "2\n",
            "3\n",
            "4\n",
            "5\n",
            "10\n",
            "20\n",
            "30\n"
          ]
        }
      ]
    },
    {
      "cell_type": "code",
      "source": [
        "#18. How would you implement a basic logging setup that logs to a file with rotation after 1MB\n",
        "import logging\n",
        "from logging.handlers import RotatingFileHandler\n",
        "\n",
        "handler = RotatingFileHandler(\"logfile.log\", maxBytes=1_000_000, backupCount=2)\n",
        "logging.basicConfig(level=logging.INFO, format=\"%(asctime)s - %(message)s\", handlers=[handler])\n",
        "\n",
        "for i in range(10000):\n",
        "    logging.info(f\"Log entry #{i}\")\n",
        "\n"
      ],
      "metadata": {
        "id": "7NzB71ALyNyM"
      },
      "execution_count": 35,
      "outputs": []
    },
    {
      "cell_type": "code",
      "source": [
        "#19. Write a program that handles both IndexError and KeyError using a try-except block\n",
        "def handle_errors():\n",
        "    data = [10, 20, 30]\n",
        "    info = {\"x\": 1, \"y\": 2}\n",
        "\n",
        "    try:\n",
        "        print(data[5])       # Triggers IndexError\n",
        "        print(info[\"z\"])     # Triggers KeyError\n",
        "\n",
        "    except IndexError:\n",
        "        print(\"Error: Tried to access an invalid list index.\")\n",
        "\n",
        "    except KeyError:\n",
        "        print(\"Error: The specified key was not found.\")\n",
        "\n",
        "handle_errors()\n"
      ],
      "metadata": {
        "colab": {
          "base_uri": "https://localhost:8080/"
        },
        "id": "fcnPxhbZyN1l",
        "outputId": "2088794a-57a5-4760-be78-aa39dd16a949"
      },
      "execution_count": 36,
      "outputs": [
        {
          "output_type": "stream",
          "name": "stdout",
          "text": [
            "Error: Tried to access an invalid list index.\n"
          ]
        }
      ]
    },
    {
      "cell_type": "code",
      "source": [
        "#20. How would you open a file and read its contents using a context manager in Python\n",
        "with open(\"example.txt\", \"r\") as file:\n",
        "    content = file.read()\n",
        "    print(content)"
      ],
      "metadata": {
        "colab": {
          "base_uri": "https://localhost:8080/"
        },
        "id": "wLljve8xyN4z",
        "outputId": "4afaf88f-a9a3-4021-cdfb-3f9678860c27"
      },
      "execution_count": 37,
      "outputs": [
        {
          "output_type": "stream",
          "name": "stdout",
          "text": [
            " Hi, I’m Ashish. I’m currently working as an Automation Tester and learning to become a Data Analyst.\n",
            "This is a new line of text just got appended\n",
            "\n"
          ]
        }
      ]
    },
    {
      "cell_type": "code",
      "source": [
        "#21. Write a Python program that reads a file and prints the number of occurrences of a specific word\n"
      ],
      "metadata": {
        "id": "GJMHtkdByN8Q"
      },
      "execution_count": null,
      "outputs": []
    },
    {
      "cell_type": "code",
      "source": [
        "#22. How can you check if a file is empty before attempting to read its contents\n",
        "path = \"example.txt\"\n",
        "\n",
        "try:\n",
        "    with open(path, \"r\") as f:\n",
        "        data = f.read().strip()\n",
        "        print(data if data else \"The file is empty.\")\n",
        "except FileNotFoundError:\n",
        "    print(\"Error: File not found.\")\n"
      ],
      "metadata": {
        "colab": {
          "base_uri": "https://localhost:8080/"
        },
        "id": "BC_L04YryN_7",
        "outputId": "487ef412-3ceb-40bc-d969-fc522c33018c"
      },
      "execution_count": 38,
      "outputs": [
        {
          "output_type": "stream",
          "name": "stdout",
          "text": [
            "Hi, I’m Ashish. I’m currently working as an Automation Tester and learning to become a Data Analyst.\n",
            "This is a new line of text just got appended\n"
          ]
        }
      ]
    },
    {
      "cell_type": "code",
      "source": [
        "#23. Write a Python program that writes to a log file when an error occurs during file handling.\n"
      ],
      "metadata": {
        "id": "Otqlhr22yODg"
      },
      "execution_count": null,
      "outputs": []
    }
  ]
}