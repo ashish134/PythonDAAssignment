{
  "nbformat": 4,
  "nbformat_minor": 0,
  "metadata": {
    "colab": {
      "provenance": [],
      "authorship_tag": "ABX9TyMVbnaOWPWDsPZ6/AzhbCr+",
      "include_colab_link": true
    },
    "kernelspec": {
      "name": "python3",
      "display_name": "Python 3"
    },
    "language_info": {
      "name": "python"
    }
  },
  "cells": [
    {
      "cell_type": "markdown",
      "metadata": {
        "id": "view-in-github",
        "colab_type": "text"
      },
      "source": [
        "<a href=\"https://colab.research.google.com/github/ashish134/PythonDAAssignment/blob/main/DataTypes_and_Structures_Assignment.ipynb\" target=\"_parent\"><img src=\"https://colab.research.google.com/assets/colab-badge.svg\" alt=\"Open In Colab\"/></a>"
      ]
    },
    {
      "cell_type": "markdown",
      "source": [
        "#Data Types and Structures Questions"
      ],
      "metadata": {
        "id": "0JU2dT28_weY"
      }
    },
    {
      "cell_type": "markdown",
      "source": [
        "1. What are data structures, and why are they important3\n",
        "\n",
        "\n",
        "*   Data structures in Python are ways to store and organize data so it can be accessed and modified efficiently. Common data structures in Python include lists, tuples, sets, and dictionaries\n",
        "\n",
        "*  They are important because following reasons\n",
        "\n",
        "\n",
        "1.   Helps in managing large amount of data efficiently\n",
        "2.   Improve the operations such Searching, sorting and updating in our program\n",
        "\n",
        "\n",
        "\n",
        "\n",
        "\n",
        "\n"
      ],
      "metadata": {
        "id": "Nx6PC4H7APcK"
      }
    },
    {
      "cell_type": "markdown",
      "source": [
        "2. Explain the difference between mutable and immutable data types with examples\n",
        "\n",
        "\n",
        "*   Mutable data types are refered to those whose values can be chaned once they are created. e.g list, Set, Dictionary\n",
        "Here\n",
        "\n",
        "\n",
        "*  list_sample=['ashish',1,2]\n",
        "list_sample[1]='singh'    \n",
        "list_sample=['ashish','singh',2] original list has modified\n",
        "\n",
        "*   Immutable data types are those whose values cannot be changed once they are created e.g. string, tuple\n",
        "here tuple_sample=('ashish',1,2)\n",
        "     tuple_sample[1]='singh'     Will give us immediate error\n"
      ],
      "metadata": {
        "id": "Oo5SevDGDgFl"
      }
    },
    {
      "cell_type": "markdown",
      "source": [
        "3. What are the main differences between lists and tuples in Python\n",
        "\n",
        "\n",
        "*   List are mutable while tuples are immutable\n",
        "*   list are used for dynamic data which keeps changing\n",
        "\n",
        "\n",
        "*   Tuples are used for fixed data such Aadhar no. data\n",
        "*   e.g. list1=['a','b','c']\n",
        "\n",
        "*   tuple1=('a','b','c')\n",
        "\n",
        "\n",
        "\n",
        "\n",
        "\n",
        "\n"
      ],
      "metadata": {
        "id": "7Y8KMMifE3Wn"
      }
    },
    {
      "cell_type": "markdown",
      "source": [
        "4. Describe how dictionaries store data\n",
        "\n",
        "\n",
        "*   Dictionaries in Python store data as key-value pairs.\n",
        "\n",
        "\n",
        "*   Each item here has unique key linked to it\n",
        "*   e.g. Dict_sample={'name':'Ashish','city':'mumbai}\n",
        "Here Name and city are keys and 'Ashish', 'Mumbai' are values\n",
        "\n",
        "\n",
        "\n",
        "\n"
      ],
      "metadata": {
        "id": "0yZgZsiuJCIH"
      }
    },
    {
      "cell_type": "markdown",
      "source": [
        "5. Why might you use a set instead of a list in Python\n",
        "\n",
        "\n",
        "*   Set basically store only unique elements and removes duplicate values automatically\n",
        "*   Its better if we only need unique elements also set provides faster membership testing compared to list\n",
        "\n"
      ],
      "metadata": {
        "id": "5oi2gtCyKTZt"
      }
    },
    {
      "cell_type": "markdown",
      "source": [
        "6. What is a string in Python, and how is it different from a list\n",
        "\n",
        "\n",
        "*   String in python is a sequance of chatacters which are written inside quotes such (' ', \" \") . It is immutable and hold only string data type\n",
        "*   Where other hand list is collection of element which can hold any data type inside it also list is mutable\n",
        "\n",
        "\n"
      ],
      "metadata": {
        "id": "uzReJ975Lxax"
      }
    },
    {
      "cell_type": "markdown",
      "source": [
        "7. How do tuples ensure data integrity in Python\n",
        "\n",
        "\n",
        "*   Tuples are immutable in nature so once it is defined it prevents any accidental modification to it\n",
        "\n",
        "*   Thus Tuple helps in ensuring data interity by keeping our original data safe and reliable\n",
        "\n",
        "\n"
      ],
      "metadata": {
        "id": "Q2aPysELNPTF"
      }
    },
    {
      "cell_type": "markdown",
      "source": [
        "8. What is a hash table, and how does it relate to dictionaries in ?\n",
        "A has table is a data structure which stores data as key-value pairs by using hash function\n",
        "\n",
        "*   Similarly Dicionaries in python are built using hash tables\n",
        "\n"
      ],
      "metadata": {
        "id": "u5rcKOcPPHkB"
      }
    },
    {
      "cell_type": "markdown",
      "source": [
        "9. Can lists contain different data types in Python ?\n",
        "Yes, List can contain different data types such integers, strings, bool at once\n",
        "\n",
        "\n",
        "*  e.g. list_sample = ['ashish', 100, True]\n",
        "\n",
        "\n"
      ],
      "metadata": {
        "id": "_snc0eJYRO3o"
      }
    },
    {
      "cell_type": "markdown",
      "source": [
        "10. Explain why strings are immutable in Python\n",
        "\n",
        "\n",
        "*   String are immutable to prevent any accidental changes also immutablity allows reuse objects and saving memory\n",
        "\n",
        "\n"
      ],
      "metadata": {
        "id": "jRb7jRKlR_K3"
      }
    },
    {
      "cell_type": "markdown",
      "source": [
        "11. What advantages do dictionaries offer over lists for certain taskes?\n",
        "\n",
        "\n",
        "*   Advantages Dictionaries offer over Lists\n",
        "*   uniquness- keys in dictionaries are unique prevent duplicate entries.\n",
        "*   key-value Storage - Dictionaries store data as key-value pair and Fast lookup\n",
        "\n",
        "\n",
        "\n",
        "\n"
      ],
      "metadata": {
        "id": "XB6d2qDaUsHo"
      }
    },
    {
      "cell_type": "markdown",
      "source": [
        "12. Describe a scenario where using a tuple would be preferable over a list\n",
        "\n",
        "\n",
        "*   Tuples are prefereable if our data is going to be unchanged such as cordinate location of delivery vehicle. Since location should not changed so tuple is preferable here over list\n",
        "\n"
      ],
      "metadata": {
        "id": "lvTKY5fEYl-v"
      }
    },
    {
      "cell_type": "markdown",
      "source": [
        "13. How do sets handle duplicate values in Python\n",
        "\n",
        "\n",
        "*   In python as soon as we create any set with duplicate values it automatically remove duplicate values. e.g. Set_eg={1,2,2,3}\n",
        "will be {1,2,3}\n",
        "\n",
        "\n"
      ],
      "metadata": {
        "id": "I1EKjQApaSWJ"
      }
    },
    {
      "cell_type": "markdown",
      "source": [
        "14. How does the “in” keyword work differently for lists and dictionaries\n",
        "*   in list, it checks if value in present e.g. 'da' in ['ds','da','fsd']\n",
        "*   in dictionaries, it checks if key is present\n",
        "\n"
      ],
      "metadata": {
        "id": "POk6jsUlbF7b"
      }
    },
    {
      "cell_type": "markdown",
      "source": [
        "15. Can you modify the elements of a tuple? Explain why or why not ?\n",
        "\n",
        "\n",
        "*   No, We cannot modify the elements of tuple  once it id defined. We cannot do so because tuple is immutable.\n",
        "\n",
        "\n",
        "\n",
        "\n",
        "\n"
      ],
      "metadata": {
        "id": "EtV51Qv_cWXy"
      }
    },
    {
      "cell_type": "markdown",
      "source": [
        "16. What is a nested dictionary, and give an example of its use case ?\n",
        "\n",
        "\n",
        "*   A nested dictionary is a dicionary within another dictionary.\n",
        "\n",
        "*   e.g. Student ={\"Ashish\":{\"age\":25,\"city\":\"mumbai\"}}\n"
      ],
      "metadata": {
        "id": "we9itW4Do5Qu"
      }
    },
    {
      "cell_type": "markdown",
      "source": [
        "17. Describe the time complexity of accessing elements in a dictionary\n",
        "\n",
        "\n",
        "*   Accessing elements in dictionary in Python has average time complexity of O(1)\n",
        "\n",
        "\n"
      ],
      "metadata": {
        "id": "uPv9NSHzp0NI"
      }
    },
    {
      "cell_type": "markdown",
      "source": [
        "18. In what situations are lists preferred over dictionaries\n",
        "\n",
        "*   When we need to store ordered, sequential data without any key-value pair also where duplicates data are needed.\n"
      ],
      "metadata": {
        "id": "BOV3juz9qqC6"
      }
    },
    {
      "cell_type": "markdown",
      "source": [
        "19. Why are dictionaries considered unordered, and how does that affect data retrieval ?\n",
        "\n",
        "*   Dictionaries are unordered as they organize data by key lookup rather than sequence. This doesn’t impact retrieval since values are accessed using unique keys, not position.\n",
        "\n",
        "\n"
      ],
      "metadata": {
        "id": "HmzaUBD2rg4P"
      }
    },
    {
      "cell_type": "markdown",
      "source": [
        "20. Explain the difference between a list and a dictionary in terms of data retrieval.\n",
        "\n",
        "\n",
        "*   list uses index-based retrieval of data starting from 0\n",
        "*   Dictionary uses unique-key(name or label) for data retrieval\n"
      ],
      "metadata": {
        "id": "U3NqVfsprn5G"
      }
    },
    {
      "cell_type": "markdown",
      "source": [
        "#Practical Questions"
      ],
      "metadata": {
        "id": "ggIlD3lhtKZX"
      }
    },
    {
      "cell_type": "code",
      "source": [
        "#1. Write a code to create a string with your name and print\n",
        "name='Ashish Singh'\n",
        "print(f'my name is {name}')"
      ],
      "metadata": {
        "colab": {
          "base_uri": "https://localhost:8080/"
        },
        "id": "M3odwaBUtUnz",
        "outputId": "2325802d-9355-4c68-f3db-956af9576355"
      },
      "execution_count": 7,
      "outputs": [
        {
          "output_type": "stream",
          "name": "stdout",
          "text": [
            "my name is Ashish Singh\n"
          ]
        }
      ]
    },
    {
      "cell_type": "code",
      "source": [
        "#2. Write a code to find the length of the string \"Hello World\"\n",
        "print(len('Hello World'))"
      ],
      "metadata": {
        "colab": {
          "base_uri": "https://localhost:8080/"
        },
        "id": "n_7lWLkjty1p",
        "outputId": "08628842-d88c-4c10-96f7-d082338b5cff"
      },
      "execution_count": 9,
      "outputs": [
        {
          "output_type": "stream",
          "name": "stdout",
          "text": [
            "11\n"
          ]
        }
      ]
    },
    {
      "cell_type": "code",
      "source": [
        "#3. Write a code to slice the first 3 characters from the string \"Python Programming\"\n",
        "print('Python Programming'[0:3])"
      ],
      "metadata": {
        "colab": {
          "base_uri": "https://localhost:8080/"
        },
        "id": "QcdEuIxWuZTR",
        "outputId": "187dd412-d041-4838-998e-1aa1c7723e7b"
      },
      "execution_count": 11,
      "outputs": [
        {
          "output_type": "stream",
          "name": "stdout",
          "text": [
            "Pyt\n"
          ]
        }
      ]
    },
    {
      "cell_type": "code",
      "source": [
        "#4. Write a code to convert the string \"hello\" to uppercase\n",
        "print(('hello').upper())"
      ],
      "metadata": {
        "colab": {
          "base_uri": "https://localhost:8080/"
        },
        "id": "GtwXzIOOvONP",
        "outputId": "eb3592b0-0dd7-4c9a-fb92-3a2826415bd5"
      },
      "execution_count": 14,
      "outputs": [
        {
          "output_type": "stream",
          "name": "stdout",
          "text": [
            "HELLO\n"
          ]
        }
      ]
    },
    {
      "cell_type": "code",
      "source": [
        "#5. Write a code to replace the word \"apple\" with \"orange\" in the string \"I like apple\"\n",
        "print(\"I like apple\".replace('apple','orange'))"
      ],
      "metadata": {
        "colab": {
          "base_uri": "https://localhost:8080/"
        },
        "id": "4-ZDw_L6vmOw",
        "outputId": "f9f4bb6d-516d-4d0c-8195-fef88ebf49ac"
      },
      "execution_count": 15,
      "outputs": [
        {
          "output_type": "stream",
          "name": "stdout",
          "text": [
            "I like orange\n"
          ]
        }
      ]
    },
    {
      "cell_type": "code",
      "source": [
        "#6 Write a code to create a list with numbers 1 to 5 and print\n",
        "list_nums=[1,2,3,4,5]\n",
        "print(list_nums)"
      ],
      "metadata": {
        "colab": {
          "base_uri": "https://localhost:8080/"
        },
        "id": "OHbwB9n74k1m",
        "outputId": "92e3c78b-8f67-48b6-f095-7c1df401b87c"
      },
      "execution_count": 17,
      "outputs": [
        {
          "output_type": "stream",
          "name": "stdout",
          "text": [
            "[1, 2, 3, 4, 5]\n"
          ]
        }
      ]
    },
    {
      "cell_type": "code",
      "source": [
        "#7. Write a code to append the number 10 to the list [1, 2, 3, 4]\n",
        "list_num=[1,2,3,4]\n",
        "list_num.append(10)\n",
        "print(list_num)"
      ],
      "metadata": {
        "colab": {
          "base_uri": "https://localhost:8080/"
        },
        "id": "mOtoH-GL41pO",
        "outputId": "ad5d0e96-128e-49be-b804-fe2d9aad670d"
      },
      "execution_count": 18,
      "outputs": [
        {
          "output_type": "stream",
          "name": "stdout",
          "text": [
            "[1, 2, 3, 4, 10]\n"
          ]
        }
      ]
    },
    {
      "cell_type": "code",
      "source": [
        "# 8. Write a code to remove the number 3 from the list [1, 2, 3, 4, 5]\n",
        "list_num=[1,2,3,4,5]\n",
        "list_num.remove(3)\n",
        "print(list_num)"
      ],
      "metadata": {
        "colab": {
          "base_uri": "https://localhost:8080/"
        },
        "id": "BUYDCKy25M8l",
        "outputId": "553e19c8-f0db-4ecf-b76c-c4ac539e28c3"
      },
      "execution_count": 19,
      "outputs": [
        {
          "output_type": "stream",
          "name": "stdout",
          "text": [
            "[1, 2, 4, 5]\n"
          ]
        }
      ]
    },
    {
      "cell_type": "code",
      "source": [
        "# 9.Write a code to access the second element in the list ['a', 'b', 'c', 'd']\n",
        "lis=['a','b','c','d']\n",
        "print(lis[1])"
      ],
      "metadata": {
        "colab": {
          "base_uri": "https://localhost:8080/"
        },
        "id": "A6gekpGu5Zz6",
        "outputId": "d171fcb1-4654-4125-994e-fc58a51580b2"
      },
      "execution_count": 20,
      "outputs": [
        {
          "output_type": "stream",
          "name": "stdout",
          "text": [
            "b\n"
          ]
        }
      ]
    },
    {
      "cell_type": "code",
      "source": [
        "# 10. Write a code to reverse the list [10, 20, 30, 40, 50].\n",
        "list_num=[10,20,30,40,50]\n",
        "print(list_num[::-1])"
      ],
      "metadata": {
        "colab": {
          "base_uri": "https://localhost:8080/"
        },
        "id": "E9lTGXbT5_DM",
        "outputId": "95b44aea-f98d-4a8f-fa17-25f918ccf497"
      },
      "execution_count": 21,
      "outputs": [
        {
          "output_type": "stream",
          "name": "stdout",
          "text": [
            "[50, 40, 30, 20, 10]\n"
          ]
        }
      ]
    },
    {
      "cell_type": "code",
      "source": [
        "# 11 Write a code to create a tuple with the elements 100, 200, 300 and print it.\n",
        "tuple_num=(100,200,300)\n",
        "print(tuple_num)"
      ],
      "metadata": {
        "colab": {
          "base_uri": "https://localhost:8080/"
        },
        "id": "MBCEti9z6WpG",
        "outputId": "5311d978-22b0-4b87-d278-e184c36c3b40"
      },
      "execution_count": 22,
      "outputs": [
        {
          "output_type": "stream",
          "name": "stdout",
          "text": [
            "(100, 200, 300)\n"
          ]
        }
      ]
    },
    {
      "cell_type": "code",
      "source": [
        "# 12. Write a code to access the second-to-last element of the tuple ('red', 'green', 'blue', 'yellow')\n",
        "tuple_color=('red','green','blue','yellow')\n",
        "print(tuple_color[-2])\n"
      ],
      "metadata": {
        "colab": {
          "base_uri": "https://localhost:8080/"
        },
        "id": "N8MZRYvf6hxo",
        "outputId": "1c081270-feaa-4d7c-a8d1-438ee232b37f"
      },
      "execution_count": 23,
      "outputs": [
        {
          "output_type": "stream",
          "name": "stdout",
          "text": [
            "blue\n"
          ]
        }
      ]
    },
    {
      "cell_type": "code",
      "source": [
        "# 13. Write a code to find the minimum number in the tuple (10, 20, 5, 15).\n",
        "print(min((10,20,5,15)))"
      ],
      "metadata": {
        "colab": {
          "base_uri": "https://localhost:8080/"
        },
        "id": "GJcN4T4k6_8E",
        "outputId": "3fe2e628-2bad-4b54-c0ad-76e5a8aa2447"
      },
      "execution_count": 24,
      "outputs": [
        {
          "output_type": "stream",
          "name": "stdout",
          "text": [
            "5\n"
          ]
        }
      ]
    },
    {
      "cell_type": "code",
      "source": [
        "14. #14. Write a code to find the index of the element \"cat\" in the tuple ('dog', 'cat', 'rabbit')\n",
        "tuple_animal=('dog','cat','rabbit')\n",
        "print(tuple_animal.index('cat'))"
      ],
      "metadata": {
        "colab": {
          "base_uri": "https://localhost:8080/"
        },
        "id": "-oo8H7r57LgU",
        "outputId": "4bfc2602-509e-46a7-eb4f-e727ea80e194"
      },
      "execution_count": 25,
      "outputs": [
        {
          "output_type": "stream",
          "name": "stdout",
          "text": [
            "1\n"
          ]
        }
      ]
    },
    {
      "cell_type": "code",
      "source": [
        "# 15. Write a code to create a tuple containing three different fruits and check if \"kiwi\" is in it.\n",
        "tuple_fruits=('apple','banana','kiwi')\n",
        "print('kiwi' in tuple_fruits)"
      ],
      "metadata": {
        "colab": {
          "base_uri": "https://localhost:8080/"
        },
        "id": "9umeXNxY7lUy",
        "outputId": "9f9a66e9-94c4-424b-8f1e-9cbdc0cf6b8e"
      },
      "execution_count": 26,
      "outputs": [
        {
          "output_type": "stream",
          "name": "stdout",
          "text": [
            "True\n"
          ]
        }
      ]
    },
    {
      "cell_type": "code",
      "source": [
        "# 16. Write a code to create a set with the elements 'a', 'b', 'c' and print it.\n",
        "set_sample={'a','b','c'}\n",
        "print(set_sample)"
      ],
      "metadata": {
        "colab": {
          "base_uri": "https://localhost:8080/"
        },
        "id": "Nza4s6Cv70pN",
        "outputId": "9fedc4eb-df5e-4bc4-8538-5b591a8e5023"
      },
      "execution_count": 29,
      "outputs": [
        {
          "output_type": "stream",
          "name": "stdout",
          "text": [
            "{'a', 'b', 'c'}\n"
          ]
        }
      ]
    },
    {
      "cell_type": "code",
      "source": [
        "# 17. Write a code to clear all elements from the set {1, 2, 3, 4, 5}\n",
        "set_num={1,2,3,4,5}\n",
        "set_num.clear()\n",
        "print(set_num)  #this will print empty set"
      ],
      "metadata": {
        "colab": {
          "base_uri": "https://localhost:8080/"
        },
        "id": "McndWgCO8ffX",
        "outputId": "565dac02-cf0e-4d64-e49d-2f004c32c1a2"
      },
      "execution_count": 30,
      "outputs": [
        {
          "output_type": "stream",
          "name": "stdout",
          "text": [
            "set()\n"
          ]
        }
      ]
    },
    {
      "cell_type": "code",
      "source": [
        "#18. Write a code to remove the element 4 from the set {1, 2, 3, 4}.\n",
        "set_number={1,2,3,4}\n",
        "set_number.remove(4)\n",
        "print(set_number)"
      ],
      "metadata": {
        "colab": {
          "base_uri": "https://localhost:8080/"
        },
        "id": "ni8_1zjk8_Rc",
        "outputId": "592dbe0b-8c30-4029-abb2-3e4ef87f8129"
      },
      "execution_count": 31,
      "outputs": [
        {
          "output_type": "stream",
          "name": "stdout",
          "text": [
            "{1, 2, 3}\n"
          ]
        }
      ]
    },
    {
      "cell_type": "code",
      "source": [
        "# 19. Write a code to find the union of two sets {1, 2, 3} and {3, 4, 5}\n",
        "set1={1,2,3}\n",
        "set2={3,4,5}\n",
        "print(set1.union(set2))"
      ],
      "metadata": {
        "colab": {
          "base_uri": "https://localhost:8080/"
        },
        "id": "mmKAaDOc9RRO",
        "outputId": "31d58b3f-9f85-4746-c298-e0dae3a8935e"
      },
      "execution_count": 32,
      "outputs": [
        {
          "output_type": "stream",
          "name": "stdout",
          "text": [
            "{1, 2, 3, 4, 5}\n"
          ]
        }
      ]
    },
    {
      "cell_type": "code",
      "source": [
        "#20. Write a code to find the intersection of two sets {1, 2, 3} and {2, 3, 4}\n",
        "set1={1,2,3}\n",
        "set2={2,3,4}\n",
        "print(set1.intersection(set2))"
      ],
      "metadata": {
        "colab": {
          "base_uri": "https://localhost:8080/"
        },
        "id": "plpp6Hv_97Jw",
        "outputId": "7bfa97c6-9547-4ac0-c07d-262d94572a71"
      },
      "execution_count": 33,
      "outputs": [
        {
          "output_type": "stream",
          "name": "stdout",
          "text": [
            "{2, 3}\n"
          ]
        }
      ]
    },
    {
      "cell_type": "code",
      "source": [
        "# 21. Write a code to create a dictionary with the keys \"name\", \"age\", and \"city\", and print it.\n",
        "dict_about={'name':'Ashish','age':25,'city':'Mumbai'}\n",
        "print(dict_about)"
      ],
      "metadata": {
        "colab": {
          "base_uri": "https://localhost:8080/"
        },
        "id": "HFEryao--Bn3",
        "outputId": "8ca32ebf-3e5c-40f6-f128-b8f2d962ecdf"
      },
      "execution_count": 34,
      "outputs": [
        {
          "output_type": "stream",
          "name": "stdout",
          "text": [
            "{'name': 'Ashish', 'age': 25, 'city': 'Mumbai'}\n"
          ]
        }
      ]
    },
    {
      "cell_type": "code",
      "source": [
        "#22. Write a code to add a new key-value pair \"country\": \"USA\" to the dictionary {'name': 'John', 'age': 25}.\n",
        "dict_sample={'name':'John','age':25}\n",
        "dict_sample['country']='USA'\n",
        "print(dict_sample)"
      ],
      "metadata": {
        "colab": {
          "base_uri": "https://localhost:8080/"
        },
        "id": "flYRG6KD-SxN",
        "outputId": "309b1431-ba53-47fb-f450-fd2c1b07b602"
      },
      "execution_count": 35,
      "outputs": [
        {
          "output_type": "stream",
          "name": "stdout",
          "text": [
            "{'name': 'John', 'age': 25, 'country': 'USA'}\n"
          ]
        }
      ]
    },
    {
      "cell_type": "code",
      "source": [
        "#23. Write a code to access the value associated with the key \"name\" in the dictionary {'name': 'Alice', 'age': 30}\n",
        "dict_sample={'name':'Alice','age':30}\n",
        "print(dict_sample['name'])"
      ],
      "metadata": {
        "colab": {
          "base_uri": "https://localhost:8080/"
        },
        "id": "Zs9Y0Rot-2tt",
        "outputId": "e1b46676-5e9f-4ebb-f7a9-e19da55fe184"
      },
      "execution_count": 36,
      "outputs": [
        {
          "output_type": "stream",
          "name": "stdout",
          "text": [
            "Alice\n"
          ]
        }
      ]
    },
    {
      "cell_type": "code",
      "source": [
        "#24. Write a code to remove the key \"age\" from the dictionary {'name': 'Bob', 'age': 22, 'city': 'New York'}.\n",
        "dict_sample={'name':'Bob','age':22,'city':'New York'}\n",
        "dict_sample.pop('age')\n",
        "print(dict_sample)"
      ],
      "metadata": {
        "colab": {
          "base_uri": "https://localhost:8080/"
        },
        "id": "xfEeW1zK_J_1",
        "outputId": "2e151eec-e4b7-4dce-a811-42a3ca9bcadd"
      },
      "execution_count": 37,
      "outputs": [
        {
          "output_type": "stream",
          "name": "stdout",
          "text": [
            "{'name': 'Bob', 'city': 'New York'}\n"
          ]
        }
      ]
    },
    {
      "cell_type": "code",
      "source": [
        "#25 Write a code to check if the key \"city\" exists in the dictionary {'name': 'Alice', 'city': 'Paris'}.\n",
        "dict_sample={'name':'Alice','city':'Paris'}\n",
        "print('city' in dict_sample)"
      ],
      "metadata": {
        "colab": {
          "base_uri": "https://localhost:8080/"
        },
        "id": "SpW_rD6D_XSI",
        "outputId": "39a8d3ea-5ff2-4d6b-d0d6-942480bfe0ba"
      },
      "execution_count": 38,
      "outputs": [
        {
          "output_type": "stream",
          "name": "stdout",
          "text": [
            "True\n"
          ]
        }
      ]
    },
    {
      "cell_type": "code",
      "source": [
        "# 26. Write a code to create a list, a tuple, and a dictionary, and print them all\n",
        "list_eg = ['ashish','mumbai',25]\n",
        "tuple_eg = ('ashish','mumbai',25)\n",
        "dict_eg= {'name':'Ashish','city':'Mumbai','age':25}\n",
        "print(list_eg)\n",
        "print(tuple_eg)\n",
        "print(dict_eg)"
      ],
      "metadata": {
        "colab": {
          "base_uri": "https://localhost:8080/"
        },
        "id": "65LZdegyAH31",
        "outputId": "ee7b0578-1636-43dd-dcd4-49a424d56217"
      },
      "execution_count": 39,
      "outputs": [
        {
          "output_type": "stream",
          "name": "stdout",
          "text": [
            "['ashish', 'mumbai', 25]\n",
            "('ashish', 'mumbai', 25)\n",
            "{'name': 'Ashish', 'city': 'Mumbai', 'age': 25}\n"
          ]
        }
      ]
    },
    {
      "cell_type": "code",
      "source": [
        "# 27. Write a code to create a list of 5 random numbers between 1 and 100, sort it in ascending order, and print the\n",
        "# result.(replaced)\n",
        "import random\n",
        "numbers = random.sample(range(1, 101), 5)\n",
        "numbers.sort()\n",
        "print(numbers)"
      ],
      "metadata": {
        "colab": {
          "base_uri": "https://localhost:8080/"
        },
        "id": "KOi3ER6zA_Ag",
        "outputId": "6ffca0c6-f898-4860-f86c-1ef67c859ab0"
      },
      "execution_count": 45,
      "outputs": [
        {
          "output_type": "stream",
          "name": "stdout",
          "text": [
            "[8, 10, 73, 90, 99]\n"
          ]
        }
      ]
    },
    {
      "cell_type": "code",
      "source": [
        "#28. Write a code to create a list with strings and print the element at the third index.\n",
        "list_str=['ashish','mumbai','Data Analyst']\n",
        "print(list_str[2])"
      ],
      "metadata": {
        "colab": {
          "base_uri": "https://localhost:8080/"
        },
        "id": "ahsEwMxoCuEk",
        "outputId": "0acc7d98-0dfb-40eb-ace5-b2273c2b6a36"
      },
      "execution_count": 46,
      "outputs": [
        {
          "output_type": "stream",
          "name": "stdout",
          "text": [
            "Data Analyst\n"
          ]
        }
      ]
    },
    {
      "cell_type": "code",
      "source": [
        "# 29. Write a code to combine two dictionaries into one and print the result\n",
        "city1 = {'Name': 'Mumbai', 'Capital': 'Maharastra'}\n",
        "city2 = {'Name1': 'Delhi', 'Capital1': 'India'}\n",
        "combined= {**city1, **city2}\n",
        "print(combined)"
      ],
      "metadata": {
        "colab": {
          "base_uri": "https://localhost:8080/"
        },
        "id": "nucGOYg5DCN5",
        "outputId": "8492f0f2-b865-4a36-b1f8-bf5dc1c02dc1"
      },
      "execution_count": 51,
      "outputs": [
        {
          "output_type": "stream",
          "name": "stdout",
          "text": [
            "{'Name': 'Mumbai', 'Capital': 'Maharastra', 'Name1': 'Delhi', 'Capital1': 'India'}\n"
          ]
        }
      ]
    },
    {
      "cell_type": "code",
      "source": [
        "# 30. Write a code to convert a list of strings into a set.\n",
        "list_str=['ashish','mumbai','Data Analyst']\n",
        "print(set(list_str))"
      ],
      "metadata": {
        "colab": {
          "base_uri": "https://localhost:8080/"
        },
        "id": "JVYGVykzEdKL",
        "outputId": "4385de86-d4c3-4bf8-93d8-44ee772c75c5"
      },
      "execution_count": 52,
      "outputs": [
        {
          "output_type": "stream",
          "name": "stdout",
          "text": [
            "{'mumbai', 'Data Analyst', 'ashish'}\n"
          ]
        }
      ]
    }
  ]
}