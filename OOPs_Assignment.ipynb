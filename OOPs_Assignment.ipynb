{
  "nbformat": 4,
  "nbformat_minor": 0,
  "metadata": {
    "colab": {
      "provenance": [],
      "authorship_tag": "ABX9TyN4KrhoxxU7x7bdNMV3Nipj",
      "include_colab_link": true
    },
    "kernelspec": {
      "name": "python3",
      "display_name": "Python 3"
    },
    "language_info": {
      "name": "python"
    }
  },
  "cells": [
    {
      "cell_type": "markdown",
      "metadata": {
        "id": "view-in-github",
        "colab_type": "text"
      },
      "source": [
        "<a href=\"https://colab.research.google.com/github/ashish134/PythonDAAssignment/blob/main/OOPs_Assignment.ipynb\" target=\"_parent\"><img src=\"https://colab.research.google.com/assets/colab-badge.svg\" alt=\"Open In Colab\"/></a>"
      ]
    },
    {
      "cell_type": "markdown",
      "source": [
        "#Python OOPs Questions"
      ],
      "metadata": {
        "id": "xB1SpFzM3npV"
      }
    },
    {
      "cell_type": "markdown",
      "source": [
        "1. What is Object-Oriented Programming (OOP) ?\n",
        "*   Object-Oriented Programming (OOP) is a way to organize software into objects that combine data and methods. It uses principles like inheritance, encapsulation, polymorphism . OOP helps make code modular, reusable, and easier to maintain."
      ],
      "metadata": {
        "id": "OcPlc4DS3qBh"
      }
    },
    {
      "cell_type": "markdown",
      "source": [
        "2. What is a class in OOP?\n",
        "*  A class is a collection of objects. Classes are blueprints for creating objects. A class defines a set of attributes and methods that the created objects can have.\n",
        "\n"
      ],
      "metadata": {
        "id": "hD9UWyTj6CrP"
      }
    },
    {
      "cell_type": "markdown",
      "source": [
        "3. What is an object in OOP ?\n",
        "*  An object is a real-world entity created using a class.\n",
        "It contains attributes and methods defined by the class. Each object has its own state and can interact with other objects."
      ],
      "metadata": {
        "id": "fOCgTV2u7Hs9"
      }
    },
    {
      "cell_type": "markdown",
      "source": [
        "4. What is the difference between abstraction and encapsulation ?\n",
        "*   Abstraction hides complex implementation details while exposing only essential information and functionalities to users.\n",
        "*   Encapsulation is the process of hiding the internal state of an object and requiring all interactions to be performed through an object's methods."
      ],
      "metadata": {
        "id": "juCC5__j75VZ"
      }
    },
    {
      "cell_type": "markdown",
      "source": [
        "5. What are dunder methods in Python ?\n",
        "*   dunder methods are methods that allow instances of a class to interact with the built-in functions. The word “dunder” comes from “double underscore” e.g.  __str__ or __add__."
      ],
      "metadata": {
        "id": "qo5CVu15-7S-"
      }
    },
    {
      "cell_type": "markdown",
      "source": [
        "6. Explain the concept of inheritance in OOP ?\n",
        "*   Inheritance in OOP allows a class (called a child or derived class) to inherit attributes and methods from another class (called a parent or base class). This promotes code reusability. for e.g.\n",
        "```\n",
        "# class Car:\n",
        "    def rev(self):\n",
        "        print(\"Car revving\")\n",
        "class SportsCar(Car):\n",
        "    pass\n",
        "c = SportsCar()\n",
        "c.rev()  # Inherited method\n",
        "```"
      ],
      "metadata": {
        "id": "XuNB9nRSAYw7"
      }
    },
    {
      "cell_type": "markdown",
      "source": [
        "7. What is polymorphism in OOP?\n",
        "*  Polymorphism means \"many forms. Polymorphism allows entities like functions,  methods or operators to behave differently based on the type of data they are handling. For example, the same method name can perform different tasks in different classes."
      ],
      "metadata": {
        "id": "9NSkywy7Ci1C"
      }
    },
    {
      "cell_type": "markdown",
      "source": [
        "9. How is encapsulation achieved in Python ?\n",
        "*   Encapsulation in Python is achieved by using private variables like public, private, protected to restrict direct access.\n",
        "```\n",
        "# class Car:\n",
        "    def __init__(self):\n",
        "        self.__speed = 0  # private attribute\n",
        "    def set_speed(self, speed):\n",
        "        self.__speed = speed\n",
        "    def get_speed(self):\n",
        "        return self.__speed\n",
        "car = Car()\n",
        "car.set_speed(50)\n",
        "print(car.get_speed())\n",
        "```"
      ],
      "metadata": {
        "id": "05r55rqREXUf"
      }
    },
    {
      "cell_type": "markdown",
      "source": [
        "10. What are class and static methods in Python ?\n",
        "*   Class method - Defined with @classmethod, takes cls as the first argument, and can access or modify class variables.\n",
        "*   Static method - Defined with @staticmethod, takes no self or cls, and behaves like a regular function inside a class e.g.\n",
        "```\n",
        "# class Car:\n",
        "    wheels = 4\n",
        "    @classmethod\n",
        "    def info(cls):\n",
        "        print(f\"Wheels: {cls.wheels}\")\n",
        "    @staticmethod\n",
        "    def greet():\n",
        "        print(\"Welcome to Car World\")\n",
        "Car.info()   \n",
        "Car.greet()\n",
        "```"
      ],
      "metadata": {
        "id": "tbWVShozGYf4"
      }
    },
    {
      "cell_type": "markdown",
      "source": [
        "11. What is method overloading in Python ?\n",
        "*   Method Overloading means defining multiple methods with the same name but different parameters.\n",
        "*   Python doesn't support true method overloading like Java or C++,\n",
        "but we can achieve similar behavior using *args to accept variable arguments.\n",
        "```\n",
        "# class Car:\n",
        "    def start(self, *args):\n",
        "        if not args:\n",
        "            print(\"Car started\")\n",
        "        elif len(args) == 1:\n",
        "            print(f\"Car started at speed {args[0]}\")\n",
        "        else:\n",
        "            print(\"Too many arguments\")\n",
        "c = Car()\n",
        "c.start()          \n",
        "c.start(60)        \n",
        "c.start(60, 100)\n",
        "```"
      ],
      "metadata": {
        "id": "rL9R8yugKB4q"
      }
    },
    {
      "cell_type": "markdown",
      "source": [
        "12. What is method overriding in OOP ?\n",
        "*  Method overriding is a feature in object-oriented programming where a child class provides its own implementation of a method already defined in the parent class.\n",
        "*   The overridden method must have the same name, parameters, and return type as the one in the parent. This allows the subclass to define behavior specific to its type.\n",
        "\n"
      ],
      "metadata": {
        "id": "kpSFW1WBL0Jb"
      }
    },
    {
      "cell_type": "markdown",
      "source": [
        "13. What is a property decorator in Python ?\n",
        "*   The property decorator in Python is used to define getter methods that can be accessed like attributes, without explicitly calling them as functions. It’s part of Python’s descriptor protocol, which allows you to manage how attributes are accessed and modified.\n",
        "\n",
        "\n"
      ],
      "metadata": {
        "id": "dyIjog_7M9jq"
      }
    },
    {
      "cell_type": "markdown",
      "source": [
        "14. Why is polymorphism important in OOP ?\n",
        "*   Polymorphism allows entities like functions,  methods or operators to behave differently based on the type of data they are handling.\n",
        "It is important because\n",
        "*   code reuseability by allowing the same interface for different data types.\n",
        "*   Supports flexibility and extensibility in program design.\n",
        "*   Allows objects of different classes to be treated uniformly."
      ],
      "metadata": {
        "id": "PflSCOKDQOUo"
      }
    },
    {
      "cell_type": "markdown",
      "source": [
        "15. What is an abstract class in Python ?\n",
        "*   An abstract class in Python is a class that cannot be instantiated directly and is intended to be subclassed. It may contain abstract methods—methods declared without implementation—that subclasses are required to override and define."
      ],
      "metadata": {
        "id": "SxtMCtpIRwj7"
      }
    },
    {
      "cell_type": "markdown",
      "source": [
        "16.  What are the advantages of OOP ?\n",
        "*   OOPs is a way of organizing code that uses objects and classes to represent real-world entities and their behavior.\n",
        "*   Organized Code: Classes help structure programs logically.\n",
        "*   Code Reuse: Inheritance allows sharing and extending functionality.\n",
        "*   Flexibility: Polymorphism enables methods to work with different object types.\n",
        "*   Data Protection: Encapsulation hides internal details and safeguards data.\n"
      ],
      "metadata": {
        "id": "N_P5CM35SddH"
      }
    },
    {
      "cell_type": "markdown",
      "source": [
        "17. What is the difference between a class variable and an instance variable ?\n",
        "*   Class variables are shared by all instances of a class, while instance variables belong to individual objects.\n",
        "*   Class variables are defined outside methods, usually directly inside the class.\n",
        "*   Instance variables are defined inside methods, typically in the __init__ constructor.\n",
        "*   Changing a class variable affects all objects, but changing an instance variable affects only that specific object."
      ],
      "metadata": {
        "id": "rLQTZUiYUO3o"
      }
    },
    {
      "cell_type": "markdown",
      "source": [
        "18. What is multiple inheritance in Python ?\n",
        "*   Multiple inheritance is a feature in Python where a class can inherit from more than one parent class. This allows a child class to access attributes and methods from all its parent classes. e.g.\n",
        "```\n",
        "# class Math:\n",
        "    def math(self):\n",
        "        print(\"Math subject\")\n",
        "class Science:\n",
        "    def science(self):\n",
        "        print(\"Science subject\")\n",
        "class Student(Math, Science):\n",
        "    pass\n",
        "s = Student()\n",
        "s.math()     # Math subject\n",
        "s.science()  # Science subject\n",
        "```"
      ],
      "metadata": {
        "id": "mbcc8pe0VYQ8"
      }
    },
    {
      "cell_type": "markdown",
      "source": [
        "19. Explain the purpose of ‘’__str__’ and ‘__repr__’ ‘ methods in Python ?\n",
        "*   __str__ is used to create a friendly, readable string for end-users (e.g., when printing an object).\n",
        "*   Meant for end-users.\n",
        "```\n",
        "# class Car:\n",
        "    def __str__(self):\n",
        "        return \"This is a car\"\n",
        "c = Car()\n",
        "print(c)  # Output: This is a car\n",
        "```\n",
        "*   Used to provide an official, detailed string representation of the object.\n",
        "*   Called by repr() and the interactive interpreter.\n",
        "```\n",
        "# class Car:\n",
        "    def __repr__(self):\n",
        "        return \"Car()\"\n",
        "c = Car()\n",
        "print(repr(c))  # Output: Car()\n",
        "```"
      ],
      "metadata": {
        "id": "T_2nkPK7fUsl"
      }
    },
    {
      "cell_type": "markdown",
      "source": [
        "20. What is the significance of the ‘super()’ function in Python ?\n",
        "*   The super() function in Python is a built-in function used to access methods from a parent class. It is commonly used in inheritance, especially when overriding methods or working with multiple inheritance.\n",
        "```\n",
        "# class Vehicle:\n",
        "    def start(self):\n",
        "        print(\"Vehicle starting...\")\n",
        "class Car(Vehicle):\n",
        "    def start(self):\n",
        "        super().start()  # Calls Vehicle's start method\n",
        "        print(\"Car engine started\")\n",
        "c = Car()\n",
        "c.start()\n",
        "```"
      ],
      "metadata": {
        "id": "efbW-PcOnfB5"
      }
    },
    {
      "cell_type": "markdown",
      "source": [
        "21. What is the significance of the __del__ method in Python ?\n",
        "*   The __del__ method in Python acts as a destructor.\n",
        "It is triggered automatically when an object is about to be deleted or garbage collected.\n",
        "*   Resource Management -Helps in releasing resources like open files, database connections, or memory when the object is deleted.\n",
        "*   Automatic Execution -The __del__ method is triggered automatically when Python detects that an object is no longer referenced.\n",
        "```\n",
        "# class Connection:\n",
        "    def __init__(self):\n",
        "        print(\"Connection opened\")\n",
        "    def __del__(self):\n",
        "        print(\"Connection closed\")\n",
        "c = Connection()\n",
        "del c  # Output: Connection closed\n",
        "```\n"
      ],
      "metadata": {
        "id": "tDoNQTfDnVTY"
      }
    },
    {
      "cell_type": "markdown",
      "source": [
        "22. What is the difference between @staticmethod and @classmethod in Python ?\n",
        "*  @staticmethod:\n",
        "*   Does not take self or cls as the first argument.\n",
        "*  Acts like a regular function inside the class namespace.\n",
        "*  Cannot access or change class or instance attributes.\n",
        "```\n",
        "# class A:\n",
        "    @staticmethod\n",
        "    def greet():\n",
        "        print(\"Hello from static method\")\n",
        "A.greet()\n",
        "```\n",
        "*  @classmethod:\n",
        "*   Takes the class (cls) as the first argument.\n",
        "*   Can access and modify class variables or call other class methods.\n",
        "*  Useful for methods related to the class itself, not individual instances.\n",
        "```\n",
        "# class A:\n",
        "    count = 0\n",
        "\n",
        "    @classmethod\n",
        "    def increment(cls):\n",
        "        cls.count += 1\n",
        "        print(f\"Count: {cls.count}\")\n",
        "A.increment()  # Output: Count: 1\n",
        "```"
      ],
      "metadata": {
        "id": "Qt1OBRMZpcRT"
      }
    },
    {
      "cell_type": "markdown",
      "source": [
        "23. How does polymorphism work in Python with inheritance ?\n",
        "*   Polymorphism in Python lets objects of different classes be treated as instances of a common superclass.\n",
        "*   It enables method overriding, where a subclass provides its own version of a method defined in the superclass.\n",
        "*  Dynamic dispatch means Python decides at runtime which method to execute based on the object’s actual type.\n",
        "```\n",
        "# class Bird:\n",
        "    def fly(self):\n",
        "        print(\"Bird is flying\")\n",
        "class Sparrow(Bird):\n",
        "    def fly(self):\n",
        "        print(\"Sparrow flies low\")\n",
        "def let_fly(bird):\n",
        "    bird.fly()\n",
        "b = Bird()\n",
        "s = Sparrow()\n",
        "let_fly(b)  # Bird is flying\n",
        "let_fly(s)  # Sparrow flies low\n",
        "```"
      ],
      "metadata": {
        "id": "2Unsw_h7u_ze"
      }
    },
    {
      "cell_type": "markdown",
      "source": [
        "24. What is method chaining in Python OOP?\n",
        "*   Method chaining in Python OOP is when you call several methods sequentially on the same object in one statement. This works because each method returns the object itself (self), enabling continuous method calls without breaking the chain.\n",
        "```\n",
        "# class Person:\n",
        "    def set_name(self, name):\n",
        "        self.name = name\n",
        "        return self\n",
        "    def set_age(self, age):\n",
        "        self.age = age\n",
        "        return self\n",
        "p = Person()\n",
        "p.set_name(\"John\").set_age(25)\n",
        "print(p.name, p.age)  # Output: John 25\n",
        "```\n"
      ],
      "metadata": {
        "id": "Lo8UunLBxN8a"
      }
    },
    {
      "cell_type": "markdown",
      "source": [
        "25. What is the purpose of the __call__ method in Python?\n",
        "*   The __call__ method in Python lets an object be called like a function using ().\n",
        "*   Function-like Behavior: Makes objects behave like functions, useful for decorators or wrappers.\n",
        "*   Encapsulation: Encapsulates behavior inside an object while allowing function-style use.\n",
        "*   Stateful Functions: Enables objects to maintain internal state across calls, unlike regular functions."
      ],
      "metadata": {
        "id": "xhiJoq8yyr8T"
      }
    },
    {
      "cell_type": "markdown",
      "source": [
        "#Practical Questions"
      ],
      "metadata": {
        "id": "PB4jadbvzQiw"
      }
    },
    {
      "cell_type": "markdown",
      "source": [],
      "metadata": {
        "id": "Wg5Ilen4zepc"
      }
    },
    {
      "cell_type": "code",
      "source": [
        "# 1. Create a parent class Animal with a method speak() that prints a generic message. Create a child class Dog\n",
        "#that overrides the speak() method to print \"Bark!\".\n",
        "class Animal:\n",
        "    def speak(self):\n",
        "        print(\"Animal speaks something\")\n",
        "\n",
        "class Dog(Animal):\n",
        "    def speak(self):\n",
        "        print(\"Bark!\")\n",
        "d = Dog()\n",
        "d.speak()"
      ],
      "metadata": {
        "colab": {
          "base_uri": "https://localhost:8080/"
        },
        "id": "PRLGNWEQzew6",
        "outputId": "aae69c96-66d4-4341-f060-5d93f99f8830"
      },
      "execution_count": 7,
      "outputs": [
        {
          "output_type": "stream",
          "name": "stdout",
          "text": [
            "Bark!\n"
          ]
        }
      ]
    },
    {
      "cell_type": "code",
      "source": [
        "# 2. Write a program to create an abstract class Shape with a method area(). Derive classes Circle and Rectangle\n",
        "# from it and implement the area() method in both.\n",
        "from abc import ABC, abstractmethod\n",
        "\n",
        "class Shape(ABC):\n",
        "    @abstractmethod\n",
        "    def area(self):\n",
        "        pass\n",
        "\n",
        "class Circle(Shape):\n",
        "    def __init__(self, r):\n",
        "        self.r = r\n",
        "\n",
        "    def area(self):\n",
        "        return 3.14 * self.r * self.r\n",
        "\n",
        "class Rectangle(Shape):\n",
        "    def __init__(self, l, w):\n",
        "        self.l = l\n",
        "        self.w = w\n",
        "\n",
        "    def area(self):\n",
        "        return self.l * self.w\n",
        "\n",
        "c = Circle(2)\n",
        "r = Rectangle(3, 4)\n",
        "\n",
        "print(\"Circle area:\", c.area())     # Output: 12.56\n",
        "print(\"Rectangle area:\", r.area())  # Output: 12\n"
      ],
      "metadata": {
        "colab": {
          "base_uri": "https://localhost:8080/"
        },
        "id": "GPuNJZzZ0KZg",
        "outputId": "8f3c942c-2018-43ee-b8bd-e20341735f9e"
      },
      "execution_count": 9,
      "outputs": [
        {
          "output_type": "stream",
          "name": "stdout",
          "text": [
            "Circle area: 12.56\n",
            "Rectangle area: 12\n"
          ]
        }
      ]
    },
    {
      "cell_type": "code",
      "source": [
        "#3. Implement a multi-level inheritance scenario where a class Vehicle has an attribute type. Derive a class Car\n",
        "#and further derive a class ElectricCar that adds a battery attribute.\n",
        "# Base class\n",
        "class Transport:\n",
        "    def __init__(self, category):\n",
        "        self.category = category\n",
        "\n",
        "# First derived class\n",
        "class FourWheeler(Transport):\n",
        "    def __init__(self, category, model):\n",
        "        super().__init__(category)\n",
        "        self.model = model\n",
        "\n",
        "# Second derived class\n",
        "class EcoCar(FourWheeler):\n",
        "    def __init__(self, category, model, battery_size):\n",
        "        super().__init__(category, model)\n",
        "        self.battery_size = battery_size\n",
        "\n",
        "    def show_details(self):\n",
        "        print(f\"Category: {self.category}\")\n",
        "        print(f\"Model: {self.model}\")\n",
        "        print(f\"Battery Size: {self.battery_size} kWh\")\n",
        "\n",
        "# Creating object\n",
        "car = EcoCar(\"Private Transport\", \"Nexon EV\", 40)\n",
        "car.show_details()\n"
      ],
      "metadata": {
        "colab": {
          "base_uri": "https://localhost:8080/"
        },
        "id": "cTMWrraY1Hdw",
        "outputId": "30e8d12e-60a4-4cba-d3fa-6ef86118478f"
      },
      "execution_count": 11,
      "outputs": [
        {
          "output_type": "stream",
          "name": "stdout",
          "text": [
            "Category: Private Transport\n",
            "Model: Nexon EV\n",
            "Battery Size: 40 kWh\n"
          ]
        }
      ]
    },
    {
      "cell_type": "code",
      "source": [
        "# 4. Demonstrate polymorphism by creating a base class Bird with a method fly(). Create two derived classes\n",
        "#Sparrow and Penguin that override the fly() method.\n",
        "# Base class\n",
        "class Bird:\n",
        "    def fly(self):\n",
        "        print(\"Bird is flying\")\n",
        "# Derived class\n",
        "class Sparrow(Bird):\n",
        "    def fly(self):\n",
        "        print(\"Sparrow flies high\")\n",
        "# Derived class\n",
        "class Penguin(Bird):\n",
        "    def fly(self):\n",
        "        print(\"Penguin cannot fly\")\n",
        "# Function to demonstrate polymorphism\n",
        "def show_flight(bird):\n",
        "    bird.fly()\n",
        "# Test with different birds\n",
        "b1 = Sparrow()\n",
        "b2 = Penguin()\n",
        "show_flight(b1)  # Output: Sparrow flies high\n",
        "show_flight(b2)  # Output: Penguin cannot fly\n",
        "\n"
      ],
      "metadata": {
        "colab": {
          "base_uri": "https://localhost:8080/"
        },
        "id": "Nm2w2xT65IoC",
        "outputId": "d524b6b9-4475-4939-c3fd-572319e7a80d"
      },
      "execution_count": 13,
      "outputs": [
        {
          "output_type": "stream",
          "name": "stdout",
          "text": [
            "Sparrow flies high\n",
            "Penguin cannot fly\n"
          ]
        }
      ]
    },
    {
      "cell_type": "code",
      "source": [
        "# 5. Write a program to demonstrate encapsulation by creating a class BankAccount with private attributes\n",
        "# balance and methods to deposit, withdraw, and check balance.\n",
        "class Account:\n",
        "    def __init__(self):\n",
        "        self.__amount = 0  # private variable\n",
        "\n",
        "    def add_money(self, money):\n",
        "        if money > 0:\n",
        "            self.__amount += money\n",
        "            print(f\"Added: {money}\")\n",
        "        else:\n",
        "            print(\"Amount must be positive\")\n",
        "\n",
        "    def take_money(self, money):\n",
        "        if 0 < money <= self.__amount:\n",
        "            self.__amount -= money\n",
        "            print(f\"Taken: {money}\")\n",
        "        else:\n",
        "            print(\"Not enough funds or invalid amount\")\n",
        "\n",
        "    def show_balance(self):\n",
        "        print(f\"Balance: {self.__amount}\")\n",
        "\n",
        "# Test the\n",
        "user = Account()\n",
        "user.add_money(1500)\n",
        "user.take_money(500)\n",
        "user.show_balance()"
      ],
      "metadata": {
        "colab": {
          "base_uri": "https://localhost:8080/"
        },
        "id": "Oo-q5uBd5ijc",
        "outputId": "f9094743-25af-4a36-bbea-a5ea8d007ce8"
      },
      "execution_count": 16,
      "outputs": [
        {
          "output_type": "stream",
          "name": "stdout",
          "text": [
            "Added: 1500\n",
            "Taken: 500\n",
            "Balance: 1000\n"
          ]
        }
      ]
    },
    {
      "cell_type": "code",
      "source": [
        "#6. Demonstrate runtime polymorphism using a method play() in a base class Instrument. Derive classes Guitar\n",
        "#and Piano that implement their own version of play().\n",
        "class Instrument:\n",
        "    def play(self):\n",
        "        print(\"Playing an instrument\")\n",
        "\n",
        "# Derived class\n",
        "class Guitar(Instrument):\n",
        "    def play(self):\n",
        "        print(\"Strumming the guitar\")\n",
        "\n",
        "# Derived class\n",
        "class Piano(Instrument):\n",
        "    def play(self):\n",
        "        print(\"Playing the piano\")\n",
        "\n",
        "# Runtime polymorphism\n",
        "def perform(instrument: Instrument):\n",
        "    instrument.play()\n",
        "\n",
        "# Example usage\n",
        "perform(Guitar())\n",
        "perform(Piano())\n"
      ],
      "metadata": {
        "colab": {
          "base_uri": "https://localhost:8080/"
        },
        "id": "O3rSaSr857Zu",
        "outputId": "bf1fc3f6-0905-4b29-8b60-f32082cab583"
      },
      "execution_count": 17,
      "outputs": [
        {
          "output_type": "stream",
          "name": "stdout",
          "text": [
            "Strumming the guitar\n",
            "Playing the piano\n"
          ]
        }
      ]
    },
    {
      "cell_type": "code",
      "source": [
        "# 7. Create a class MathOperations with a class method add_numbers() to add two numbers and a static\n",
        "#method subtract_numbers() to subtract two numbers.\n",
        "class MathOperations:\n",
        "    @classmethod\n",
        "    def add_numbers(cls, a, b):\n",
        "        return a + b\n",
        "\n",
        "    @staticmethod\n",
        "    def subtract_numbers(a, b):\n",
        "        return a - b\n",
        "\n",
        "# Example usage\n",
        "print(\"Addition:\", MathOperations.add_numbers(10, 5))\n",
        "print(\"Subtraction:\", MathOperations.subtract_numbers(10, 5))"
      ],
      "metadata": {
        "colab": {
          "base_uri": "https://localhost:8080/"
        },
        "id": "a-sTFWgZ6WWn",
        "outputId": "ea0d434c-7c43-4b84-a5a4-643b9928c648"
      },
      "execution_count": 18,
      "outputs": [
        {
          "output_type": "stream",
          "name": "stdout",
          "text": [
            "Addition: 15\n",
            "Subtraction: 5\n"
          ]
        }
      ]
    },
    {
      "cell_type": "code",
      "source": [
        "#8) Implement a class Person with a class method to count the total number of persons created.\n",
        "class Person:\n",
        "    count = 0  # Class variable to track number of persons\n",
        "\n",
        "    def __init__(self, name):\n",
        "        self.name = name\n",
        "        Person.count += 1\n",
        "\n",
        "    @classmethod\n",
        "    def total_persons(cls):\n",
        "        return cls.count\n",
        "\n",
        "# Example usage\n",
        "p1 = Person(\"Ashish\")\n",
        "p2 = Person(\"Akash\")\n",
        "p3 = Person(\"Raju\")\n",
        "\n",
        "print(\"Total persons created:\", Person.total_persons())"
      ],
      "metadata": {
        "colab": {
          "base_uri": "https://localhost:8080/"
        },
        "id": "ru5RN9HJ6gDU",
        "outputId": "56fd4a14-9fe9-40b5-f14c-4cf47d24adb6"
      },
      "execution_count": 20,
      "outputs": [
        {
          "output_type": "stream",
          "name": "stdout",
          "text": [
            "Total persons created: 3\n"
          ]
        }
      ]
    },
    {
      "cell_type": "code",
      "source": [
        "#9.  Write a class Fraction with attributes numerator and denominator. Override the str method to display the\n",
        "#fraction as \"numerator/denominator\".\n",
        "class Fraction:\n",
        "    def __init__(self, numerator, denominator):\n",
        "        self.numerator = numerator\n",
        "        self.denominator = denominator\n",
        "\n",
        "    def __str__(self):\n",
        "        return f\"{self.numerator}/{self.denominator}\"\n",
        "\n",
        "# Example usage:\n",
        "f = Fraction(3, 4)\n",
        "print(f)  # Output: 3/4"
      ],
      "metadata": {
        "colab": {
          "base_uri": "https://localhost:8080/"
        },
        "id": "H3O34URy6oQN",
        "outputId": "970d85e3-e92c-42a7-bbba-fda1540cbdf6"
      },
      "execution_count": 21,
      "outputs": [
        {
          "output_type": "stream",
          "name": "stdout",
          "text": [
            "3/4\n"
          ]
        }
      ]
    },
    {
      "cell_type": "code",
      "source": [
        "# 10. 10. Demonstrate operator overloading by creating a class Vector and overriding the add method to add two vectors.\n",
        "class Vector:\n",
        "    def __init__(self, x, y):\n",
        "        self.x, self.y = x, y\n",
        "\n",
        "    def __add__(self, other):\n",
        "        return Vector(self.x + other.x, self.y + other.y)\n",
        "\n",
        "    def __str__(self):\n",
        "        return f\"{self.x}, {self.y}\"\n",
        "\n",
        "v1 = Vector(1, 2)\n",
        "v2 = Vector(3, 4)\n",
        "print(v1 + v2)"
      ],
      "metadata": {
        "colab": {
          "base_uri": "https://localhost:8080/"
        },
        "id": "eV9DspfP7BH6",
        "outputId": "99a7ac0b-4cf4-47a5-8d06-cba1b47347a4"
      },
      "execution_count": 24,
      "outputs": [
        {
          "output_type": "stream",
          "name": "stdout",
          "text": [
            "4, 6\n"
          ]
        }
      ]
    },
    {
      "cell_type": "code",
      "source": [
        "# 11.Create a class Person with attributes name and age. Add a method greet() that prints \"Hello, my name is\n",
        "# {name} and I am {age} years old.\"\n",
        "class Person:\n",
        "    def __init__(self, name, age):\n",
        "        self.name = name\n",
        "        self.age = age\n",
        "\n",
        "    def greet(self):\n",
        "        print(\"Hi, I'm \" + self.name + \" and I'm \" + str(self.age) + \" years old.\")\n",
        "\n",
        "# Usage\n",
        "person = Person(\"Ashish\", 24)\n",
        "person.greet()\n"
      ],
      "metadata": {
        "colab": {
          "base_uri": "https://localhost:8080/"
        },
        "id": "qoZC9L4H7Qxp",
        "outputId": "15fe524a-bf9e-4d45-a4d7-370afb12cf31"
      },
      "execution_count": 27,
      "outputs": [
        {
          "output_type": "stream",
          "name": "stdout",
          "text": [
            "Hi, I'm Ashish and I'm 24 years old.\n"
          ]
        }
      ]
    },
    {
      "cell_type": "code",
      "source": [
        "#12. Implement a class Student with attributes name and grades. Create a method average_grade() to compute\n",
        "#the average of the grades.\n",
        "class Student:\n",
        "    def __init__(self, name, grades):\n",
        "        self.name = name\n",
        "        self.grades = grades\n",
        "\n",
        "    def average_grade(self):\n",
        "        return sum(self.grades) / len(self.grades)\n",
        "\n",
        "student = Student(\"John\", [80, 90, 85])\n",
        "print(student.average_grade())\n"
      ],
      "metadata": {
        "colab": {
          "base_uri": "https://localhost:8080/"
        },
        "id": "7OGrG0ur7m6s",
        "outputId": "790b7e09-a2fe-42c1-bcb6-94b1ce44f94a"
      },
      "execution_count": 30,
      "outputs": [
        {
          "output_type": "stream",
          "name": "stdout",
          "text": [
            "85.0\n"
          ]
        }
      ]
    },
    {
      "cell_type": "code",
      "source": [
        "# 13. Create a class Rectangle with methods set_dimensions() to set the dimensions and area() to calculate the\n",
        "#area.\n",
        "class Rectangle:\n",
        "    def __init__(self, length, width):\n",
        "        self.length = length\n",
        "        self.width = width\n",
        "\n",
        "    def area(self):\n",
        "        return self.length * self.width\n",
        "\n",
        "# Example:\n",
        "rect = Rectangle(5, 3)\n",
        "print(rect.area())  # Output: 15\n"
      ],
      "metadata": {
        "colab": {
          "base_uri": "https://localhost:8080/"
        },
        "id": "EJSG_GB_78TF",
        "outputId": "3bb94f00-b47d-4176-959f-f6c0adb08bb2"
      },
      "execution_count": 31,
      "outputs": [
        {
          "output_type": "stream",
          "name": "stdout",
          "text": [
            "15\n"
          ]
        }
      ]
    },
    {
      "cell_type": "code",
      "source": [
        "# 14. Create a class Employee with a method calculate_salary() that computes the salary based on hours worked\n",
        "#and hourly rate. Create a derived class Manager that adds a bonus to the salary."
      ],
      "metadata": {
        "id": "wgpAWq_Y8JOO"
      },
      "execution_count": null,
      "outputs": []
    },
    {
      "cell_type": "code",
      "source": [
        "# 15. Create a class Product with attributes name, price, and quantity. Implement a method total_price() that\n",
        "#calculates the total price of the product.\n",
        "class Product:\n",
        "    def __init__(self, name, price, quantity):\n",
        "        self.name = name\n",
        "        self.price = price\n",
        "        self.quantity = quantity\n",
        "\n",
        "    def total_price(self):\n",
        "        return self.price * self.quantity\n",
        "\n",
        "# Example\n",
        "product = Product(\"Pen\", 10, 5)\n",
        "print(product.total_price())\n"
      ],
      "metadata": {
        "colab": {
          "base_uri": "https://localhost:8080/"
        },
        "id": "vl25S8g78SOo",
        "outputId": "e25bba1f-7af5-42ed-acd2-a174f2ad064a"
      },
      "execution_count": 32,
      "outputs": [
        {
          "output_type": "stream",
          "name": "stdout",
          "text": [
            "50\n"
          ]
        }
      ]
    },
    {
      "cell_type": "code",
      "source": [
        "#16. Create a class Animal with an abstract method sound(). Create two derived classes Cow and Sheep that\n",
        "#implement the sound() method."
      ],
      "metadata": {
        "id": "E3-2Png28irs"
      },
      "execution_count": null,
      "outputs": []
    },
    {
      "cell_type": "code",
      "source": [
        "# 17 Create a class Book with attributes title, author, and year_published. Add a method get_book_info() that\n",
        "#returns a formatted string with the book's details.\n",
        "class Book:\n",
        "    def __init__(self, title, author, year_published):\n",
        "        self.title = title\n",
        "        self.author = author\n",
        "        self.year_published = year_published\n",
        "\n",
        "    def get_book_info(self):\n",
        "        return f\"'{self.title}' by {self.author}, published in {self.year_published}\"\n",
        "\n",
        "# Example usage\n",
        "book = Book(\"The Subtle Art of not Giving Fukk\", \"Mark Ronson\", 2025)\n",
        "print(book.get_book_info())"
      ],
      "metadata": {
        "colab": {
          "base_uri": "https://localhost:8080/"
        },
        "id": "1hPY3Rq98nD4",
        "outputId": "f1bfff4e-fb3a-427e-e115-974ac7486ede"
      },
      "execution_count": 34,
      "outputs": [
        {
          "output_type": "stream",
          "name": "stdout",
          "text": [
            "'The Subtle Art of not Giving Fukk' by Mark Ronson, published in 2025\n"
          ]
        }
      ]
    },
    {
      "cell_type": "code",
      "source": [
        "#18  Create a class House with attributes address and price. Create a derived class Mansion that adds an\n",
        "# attribute number_of_rooms.\n",
        "class House:\n",
        "    def __init__(self, address, price):\n",
        "        self.address = address\n",
        "        self.price = price\n",
        "\n",
        "class Mansion(House):\n",
        "    def __init__(self, address, price, rooms):\n",
        "        super().__init__(address, price)\n",
        "        self.rooms = rooms\n",
        "\n",
        "mansion = Mansion(\"456 Grand Ave\", 2000000, 8)\n",
        "print(mansion.address)\n",
        "print(mansion.price)\n",
        "print(mansion.rooms)\n"
      ],
      "metadata": {
        "colab": {
          "base_uri": "https://localhost:8080/"
        },
        "id": "P1MP5fiN8tWf",
        "outputId": "cb22f0e3-d864-469b-bda8-f2334fd81cd7"
      },
      "execution_count": 33,
      "outputs": [
        {
          "output_type": "stream",
          "name": "stdout",
          "text": [
            "456 Grand Ave\n",
            "2000000\n",
            "8\n"
          ]
        }
      ]
    }
  ]
}