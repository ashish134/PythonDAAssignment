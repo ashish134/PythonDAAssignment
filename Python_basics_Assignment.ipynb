{
  "nbformat": 4,
  "nbformat_minor": 0,
  "metadata": {
    "colab": {
      "provenance": [],
      "authorship_tag": "ABX9TyP6BXNJEN/VstIETa8vMgJ5",
      "include_colab_link": true
    },
    "kernelspec": {
      "name": "python3",
      "display_name": "Python 3"
    },
    "language_info": {
      "name": "python"
    }
  },
  "cells": [
    {
      "cell_type": "markdown",
      "metadata": {
        "id": "view-in-github",
        "colab_type": "text"
      },
      "source": [
        "<a href=\"https://colab.research.google.com/github/ashish134/PythonDAAssignment/blob/main/Python_basics_Assignment.ipynb\" target=\"_parent\"><img src=\"https://colab.research.google.com/assets/colab-badge.svg\" alt=\"Open In Colab\"/></a>"
      ]
    },
    {
      "cell_type": "markdown",
      "source": [],
      "metadata": {
        "id": "vmAMX9j5ciki"
      }
    },
    {
      "cell_type": "markdown",
      "source": [
        "#Python Basic Assignment\n",
        "Python Basics Questions"
      ],
      "metadata": {
        "id": "xFnpeiqmckl_"
      }
    },
    {
      "cell_type": "markdown",
      "source": [
        "1 What is Python, and why is it popular ?\n",
        "\n",
        "\n",
        "*   Python is a high-level, general-purpose, interpreted programming language known for its simplicity and readability.\n",
        "*   It is popular beacuase\n",
        "1) it's easy to learn and read\n",
        "2) has vast libararies\n",
        "3) Widly used in multiple fields such as Development, Data Science and Analytics and Automation Scripting etc.\n",
        "\n"
      ],
      "metadata": {
        "id": "R4EYOjV6cx5W"
      }
    },
    {
      "cell_type": "markdown",
      "source": [
        "2 What is an interpreter in Python ?\n",
        "\n",
        "\n",
        "*   A python interpreter in Python is a computer program that executes python program line by line, converting it into machine readable code, which allows immediate execution and easier debugging.\n",
        "\n"
      ],
      "metadata": {
        "id": "n0Tqvku0hC6i"
      }
    },
    {
      "cell_type": "markdown",
      "source": [
        "3 What are pre-defined keywords in Python ?\n",
        "\n",
        "\n",
        "*   Predefined keywords in python are reserved words that hold some special meaning and purpose and which is cannot used as indentifer like variable name or function. For e.g. if, from, import, print, def etc.\n",
        "\n"
      ],
      "metadata": {
        "id": "OuhuL49uk5DJ"
      }
    },
    {
      "cell_type": "markdown",
      "source": [
        "4 Can keywords be used as variable names ?\n",
        "\n",
        "\n",
        "*   No, keywords cannot be used as variable names in python and doing so will result in SyntaxError\n",
        "\n"
      ],
      "metadata": {
        "id": "IlX4_OabmqW5"
      }
    },
    {
      "cell_type": "markdown",
      "source": [
        "5 What is mutability in Python ?\n",
        "\n",
        "\n",
        "*   Mutability in python refers to whether value of object can be changed or modified after it is created.\n",
        "\n",
        "*   Mutable object allows to change, update or modify its content e.g. List, Dictionaries, Sets\n",
        "\n",
        "\n"
      ],
      "metadata": {
        "id": "e1tGHZzpxnGx"
      }
    },
    {
      "cell_type": "markdown",
      "source": [
        "6 Why are lists mutable, but tuples are immutable ?\n",
        "\n",
        "\n",
        "*   List are mutable because they are meant to hold the data that can be change such as add, remove, modify elements as needed\n",
        "*   Tuples are immutable because they are used to store constant or fixed data that should not be changed which helps ensuring data safety and memory-efficiency.\n",
        "\n"
      ],
      "metadata": {
        "id": "RxireQ-g0mCj"
      }
    },
    {
      "cell_type": "markdown",
      "source": [
        " 7  What is the difference between “==” and “is” operators in Python ?\n",
        "\n",
        "\n",
        "*   \"==\" checks and compares whether two objects have same data or content\n",
        "*   \"is\" (identity) checks if two variables refer to the same object in memory\n",
        "\n",
        "\n"
      ],
      "metadata": {
        "id": "Pg19cdN44T6S"
      }
    },
    {
      "cell_type": "markdown",
      "source": [
        "8 What are logical operators in Python ?\n",
        "\n",
        "\n",
        "*   logical operators are used to combine conditional expressions and make decisions.\n",
        "*   and- true if both is true, or- true if at least one is true, not- reverses the result\n",
        "\n"
      ],
      "metadata": {
        "id": "g3EqJ4Fs95Mo"
      }
    },
    {
      "cell_type": "markdown",
      "source": [
        "9 What is type casting in Python ?\n",
        "\n",
        "\n",
        "*  Type casting is a method in Python used to convert a variable from one data type to another using built in functions such int(), float(), str()\n",
        "*   e.g. int('14') - converts string into integer\n",
        "\n"
      ],
      "metadata": {
        "id": "90-qiD7j_hkG"
      }
    },
    {
      "cell_type": "markdown",
      "source": [
        "10 What is the difference between implicit and explicit type casting ?\n",
        "\n",
        "\n",
        "*   Implicit type casting is done automatically by python during operations.\n",
        "*   Explicit type casting is done manually by programer using functions like int(), float(), str()\n",
        "\n"
      ],
      "metadata": {
        "id": "rATwEZ2YB58H"
      }
    },
    {
      "cell_type": "markdown",
      "source": [
        "11 What is the purpose of conditional statements in Python ?\n",
        "\n",
        "\n",
        "*   Conditional statements (if, elif, else) are used to control flow of program and make decisions in programming based on diffrent conditions as needed.\n",
        "\n",
        "\n"
      ],
      "metadata": {
        "id": "lSe1xpNIDvyq"
      }
    },
    {
      "cell_type": "markdown",
      "source": [
        "12 How does the elif statement work ?\n",
        "\n",
        "\n",
        "*   The 'elif' statement (a short of 'else if') lets us check additional condition after the initial 'if' statement. If the 'if' condition is false, python test 'elif' and none match 'else' block runs.\n"
      ],
      "metadata": {
        "id": "nbHkIEEyFyvQ"
      }
    },
    {
      "cell_type": "markdown",
      "source": [
        "13 What is the difference between for and while loops ?\n",
        "\n",
        "\n",
        "*   For loop iterates a block of code a fixed number of time by iterating over a sequence\n",
        "*   White loop executes block of code as long as condition is true\n"
      ],
      "metadata": {
        "id": "HAsL7-SjJNl_"
      }
    },
    {
      "cell_type": "markdown",
      "source": [
        "14 Describe a scenario where a while loop is more suitable than a for loop.\n",
        "\n",
        "*   A While loop is suitable when number of\n",
        "repetitions is not known until condition is met. e.g. Asking user again and again to click terms and conditions to proceed ahead."
      ],
      "metadata": {
        "id": "xhA5WKThLADO"
      }
    },
    {
      "cell_type": "markdown",
      "source": [
        "#Practical Questions"
      ],
      "metadata": {
        "id": "28DR6WvXM1Ph"
      }
    },
    {
      "cell_type": "code",
      "source": [
        "# 1 Write a Python program to print \"Hello, World!\"\n",
        "print('Hello, World!')\n"
      ],
      "metadata": {
        "colab": {
          "base_uri": "https://localhost:8080/"
        },
        "id": "Lf5w0aYLM8X5",
        "outputId": "a9653273-c278-444a-ef4a-94dc7847f441"
      },
      "execution_count": null,
      "outputs": [
        {
          "output_type": "stream",
          "name": "stdout",
          "text": [
            "Hello, World!\n"
          ]
        }
      ]
    },
    {
      "cell_type": "code",
      "source": [
        "# 2 Write a Python program that displays your name and age\n",
        "Name='Ashish Songh'\n",
        "Age= 25\n",
        "print(\"Name : \",Name)\n",
        "print(\"age : \",Age)"
      ],
      "metadata": {
        "colab": {
          "base_uri": "https://localhost:8080/"
        },
        "id": "l3d9Oiw4NdM3",
        "outputId": "c4df7c61-02ef-4b2c-d709-bea7a6879468"
      },
      "execution_count": null,
      "outputs": [
        {
          "output_type": "stream",
          "name": "stdout",
          "text": [
            "Name :  Ashish Songh\n",
            "age :  25\n"
          ]
        }
      ]
    },
    {
      "cell_type": "code",
      "source": [
        "# 3 Write code to print all the pre-defined keywords in Python using the keyword library\n",
        "import keyword\n",
        "print('Python Keywords : ')\n",
        "print(keyword.kwlist)"
      ],
      "metadata": {
        "colab": {
          "base_uri": "https://localhost:8080/"
        },
        "id": "rqVU6ryAUnVc",
        "outputId": "b2ffd222-6043-4e2e-e9d1-caa707d0d096"
      },
      "execution_count": null,
      "outputs": [
        {
          "output_type": "stream",
          "name": "stdout",
          "text": [
            "Python Keywords : \n",
            "['False', 'None', 'True', 'and', 'as', 'assert', 'async', 'await', 'break', 'class', 'continue', 'def', 'del', 'elif', 'else', 'except', 'finally', 'for', 'from', 'global', 'if', 'import', 'in', 'is', 'lambda', 'nonlocal', 'not', 'or', 'pass', 'raise', 'return', 'try', 'while', 'with', 'yield']\n"
          ]
        }
      ]
    },
    {
      "cell_type": "code",
      "source": [
        "# 4 Write a program that checks if a given word is a Python keyword.\n",
        "import keyword\n",
        "word=input('Enter a word: ')\n",
        "if keyword.iskeyword(word):\n",
        "  print(word,' is a python keyword')\n",
        "else:\n",
        "  print(word,' is not a python keyword ')"
      ],
      "metadata": {
        "colab": {
          "base_uri": "https://localhost:8080/"
        },
        "id": "iVO5zLquVz8a",
        "outputId": "4a9e1f57-2dc8-4bbf-a9d4-8d3bb2411015"
      },
      "execution_count": null,
      "outputs": [
        {
          "output_type": "stream",
          "name": "stdout",
          "text": [
            "Enter a word: while\n",
            "while  is a python keyword\n"
          ]
        }
      ]
    },
    {
      "cell_type": "code",
      "source": [
        "# 5 Create a list and tuple in Python, and demonstrate how attempting to change an element works differently\n",
        "# for each.\n",
        "my_list=[5,10,15]\n",
        "my_tuple=(5,10,15)\n",
        "#modify element of list\n",
        "my_list[1]=25\n",
        "print(\"modified list\",my_list)\n",
        "#Now Trying to change element in tuple\n",
        "try:\n",
        "  my_tuple[1]=25\n",
        "except TypeError as err:\n",
        "  print(\"Error with Tuple\",err)\n",
        "\n"
      ],
      "metadata": {
        "colab": {
          "base_uri": "https://localhost:8080/"
        },
        "id": "JbNSyK6hXZ9L",
        "outputId": "33666a57-950d-4230-a575-37928ed20415"
      },
      "execution_count": null,
      "outputs": [
        {
          "output_type": "stream",
          "name": "stdout",
          "text": [
            "modified list [5, 25, 15]\n",
            "Error with Tuple 'tuple' object does not support item assignment\n"
          ]
        }
      ]
    },
    {
      "cell_type": "code",
      "source": [
        "# 6. Write a function to demonstrate the behavior of mutable and immutable arguments\n",
        "a = 10\n",
        "b = [1, 2, 3]\n",
        "def update_values(a, b):\n",
        "    a = a + 5           # 'a' is int (immutable)\n",
        "    b.append(100)       # 'b' is list (mutable)\n",
        "    print(\"Inside function:\", a, b)\n",
        "x = 10\n",
        "y = [1, 2, 3]\n",
        "update_values(x, y)\n",
        "print(\"Outside function:\", x, y)"
      ],
      "metadata": {
        "colab": {
          "base_uri": "https://localhost:8080/"
        },
        "id": "aH5pkMInx-hv",
        "outputId": "3287ce37-869b-44f9-860e-163b1d7d9969"
      },
      "execution_count": 29,
      "outputs": [
        {
          "output_type": "stream",
          "name": "stdout",
          "text": [
            "Inside function: 15 [1, 2, 3, 100]\n",
            "Outside function: 10 [1, 2, 3, 100]\n"
          ]
        }
      ]
    },
    {
      "cell_type": "code",
      "source": [
        "#7. Write a program that performs basic arithmetic operations on two user-input numbers\n",
        "num1=float(input('enter first number'))\n",
        "num2=float(input('enter second number'))\n",
        "print('Addition : ',num1+num2)\n",
        "print('Subtraction : ',num1-num2)\n",
        "print('Multiplication : ',num1*num2)\n",
        "print('Division : ',num1/num2)"
      ],
      "metadata": {
        "colab": {
          "base_uri": "https://localhost:8080/"
        },
        "id": "suw5Jpkuyrio",
        "outputId": "4ecc32dc-1131-4443-d8b2-14ab19b1a45d"
      },
      "execution_count": 30,
      "outputs": [
        {
          "output_type": "stream",
          "name": "stdout",
          "text": [
            "enter first number10\n",
            "enter second number5\n",
            "Addition :  15.0\n",
            "Subtraction :  5.0\n",
            "Multiplication :  50.0\n",
            "Division :  2.0\n"
          ]
        }
      ]
    },
    {
      "cell_type": "code",
      "source": [
        "#8. Write a program to demonstrate the use of logical operators.\n",
        "x=int(input('enter a number :' ))\n",
        "print(\"x >10 and x <20 :\", x>10 and x<20)\n",
        "print(\"x >10 or x <20 :\", x>10 or x<20)\n",
        "print(\"not x==10 :\", not x==10)\n"
      ],
      "metadata": {
        "colab": {
          "base_uri": "https://localhost:8080/"
        },
        "id": "_FlVZg3j0e-N",
        "outputId": "52454b66-15ad-48fb-af6c-127b301fc2eb"
      },
      "execution_count": 35,
      "outputs": [
        {
          "output_type": "stream",
          "name": "stdout",
          "text": [
            "enter a number :25\n",
            "x >10 and x <20 : False\n",
            "x >10 or x <20 : True\n",
            "not x==10 : True\n"
          ]
        }
      ]
    },
    {
      "cell_type": "code",
      "source": [
        "#9. Write a Python program to convert user input from string to integer, float, and boolean types\n",
        "user_value=input('enter a value:') #takes user input\n",
        "print(type(user_value))\n",
        "#converting to string\n",
        "int_value=int(user_value)\n",
        "#converting to float\n",
        "float_value=float(user_value)\n",
        "#cconverting to bool\n",
        "bool_value=bool(user_value)\n",
        "#lets print\n",
        "print('Interger Value :',int_value)\n",
        "print('Float Value :',float_value)\n",
        "print('Boolean Value :',bool_value)\n",
        "\n"
      ],
      "metadata": {
        "colab": {
          "base_uri": "https://localhost:8080/"
        },
        "id": "150I_UN72kTr",
        "outputId": "3038a83c-503d-4c4f-c6d6-4e2569038074"
      },
      "execution_count": 37,
      "outputs": [
        {
          "output_type": "stream",
          "name": "stdout",
          "text": [
            "enter a value:45\n",
            "<class 'str'>\n",
            "Interger Value : 45\n",
            "Float Value : 45.0\n",
            "Boolean Value : True\n"
          ]
        }
      ]
    },
    {
      "cell_type": "code",
      "source": [
        "#10. Write code to demonstrate type casting with list elements.\n",
        "str_list=['100','200','300']\n",
        "int_list=[int (i) for i in str_list]\n",
        "print(\"Orginal list\",str_list)\n",
        "print(\"Converted list\",int_list)\n"
      ],
      "metadata": {
        "colab": {
          "base_uri": "https://localhost:8080/"
        },
        "id": "vBs4xlM14EwX",
        "outputId": "6460e531-f3f3-4450-eb52-b6aabac45c8b"
      },
      "execution_count": 39,
      "outputs": [
        {
          "output_type": "stream",
          "name": "stdout",
          "text": [
            "Orginal list ['100', '200', '300']\n",
            "Converted list [100, 200, 300]\n"
          ]
        }
      ]
    },
    {
      "cell_type": "code",
      "source": [
        "#11. Write a program that checks if a number is positive, negative, or zero\n",
        "my_num= int(input('Enter a number'))\n",
        "if my_num > 0:\n",
        "  print('this is positive number :',my_num)\n",
        "elif my_num < 0:\n",
        "  print('this is negative number :',my_num)\n",
        "else:\n",
        "  print('this is zero :',my_num)\n"
      ],
      "metadata": {
        "colab": {
          "base_uri": "https://localhost:8080/"
        },
        "id": "xLqzmyfX5lzk",
        "outputId": "ceee3a0f-c7e5-4db7-98a1-c3e5fc3d352d"
      },
      "execution_count": 43,
      "outputs": [
        {
          "output_type": "stream",
          "name": "stdout",
          "text": [
            "Enter a number22\n",
            "this is positive number : 22\n"
          ]
        }
      ]
    },
    {
      "cell_type": "code",
      "source": [
        "#12. Write a for loop to print numbers from 1 to 10.\n",
        "for i in range(1,11):\n",
        "    print(i)"
      ],
      "metadata": {
        "colab": {
          "base_uri": "https://localhost:8080/"
        },
        "id": "DMJUqhet6lrP",
        "outputId": "41bbd4de-38c9-45a9-8c72-1f82b0b90a9b"
      },
      "execution_count": 46,
      "outputs": [
        {
          "output_type": "stream",
          "name": "stdout",
          "text": [
            "1\n",
            "2\n",
            "3\n",
            "4\n",
            "5\n",
            "6\n",
            "7\n",
            "8\n",
            "9\n",
            "10\n"
          ]
        }
      ]
    },
    {
      "cell_type": "code",
      "source": [
        "#13. Write a Python program to find the sum of all even numbers between 1 and 50.\n",
        "sumof=0\n",
        "for i in range(2,51,2):\n",
        "  sumof+=i\n",
        "print('sum of even number from 1 to 50 :',sumof)"
      ],
      "metadata": {
        "colab": {
          "base_uri": "https://localhost:8080/"
        },
        "id": "N4u7KqEM7Nrc",
        "outputId": "b6327fe0-fba2-49ff-b560-dab8fbc755e3"
      },
      "execution_count": 49,
      "outputs": [
        {
          "output_type": "stream",
          "name": "stdout",
          "text": [
            "sum of even number from 1 to 50 : 650\n"
          ]
        }
      ]
    },
    {
      "cell_type": "code",
      "source": [
        "#14. Write a program to reverse a string using a while loop.\n",
        "text = input(\"Enter a string: \")\n",
        "rev_text = \"\"\n",
        "i = len(text) - 1\n",
        "\n",
        "while i >= 0:\n",
        "    rev_text += text[i]\n",
        "    i -= 1\n",
        "\n",
        "print(\"Reversed string:\", rev_text)"
      ],
      "metadata": {
        "colab": {
          "base_uri": "https://localhost:8080/"
        },
        "id": "mvfq7Oif8G-b",
        "outputId": "70be0af7-6003-4bfd-a222-77efe75eebe0"
      },
      "execution_count": 50,
      "outputs": [
        {
          "output_type": "stream",
          "name": "stdout",
          "text": [
            "Enter a string: 244\n",
            "Reversed string: 442\n"
          ]
        }
      ]
    },
    {
      "cell_type": "code",
      "source": [
        "## 15. Write a Python program to calculate the factorial of a number provided by the user  using a while loop.\n",
        "num = int(input(\"Enter a number: \"))\n",
        "fact = 1\n",
        "i = 1\n",
        "while i <= num:\n",
        "    fact *= i\n",
        "    i += 1\n",
        "print(f\"Factorial of {num} is {fact}\")"
      ],
      "metadata": {
        "colab": {
          "base_uri": "https://localhost:8080/"
        },
        "id": "rH9n6BQz88Sb",
        "outputId": "8917c063-ef0f-4067-e4e1-6a7252c70314"
      },
      "execution_count": 51,
      "outputs": [
        {
          "output_type": "stream",
          "name": "stdout",
          "text": [
            "Enter a number: 5\n",
            "Factorial of 5 is 120\n"
          ]
        }
      ]
    }
  ]
}