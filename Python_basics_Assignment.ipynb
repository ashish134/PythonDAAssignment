{
  "nbformat": 4,
  "nbformat_minor": 0,
  "metadata": {
    "colab": {
      "provenance": [],
      "authorship_tag": "ABX9TyOyAucjn4cDv8u4b4lsKvaU",
      "include_colab_link": true
    },
    "kernelspec": {
      "name": "python3",
      "display_name": "Python 3"
    },
    "language_info": {
      "name": "python"
    }
  },
  "cells": [
    {
      "cell_type": "markdown",
      "metadata": {
        "id": "view-in-github",
        "colab_type": "text"
      },
      "source": [
        "<a href=\"https://colab.research.google.com/github/ashish134/PythonDAAssignment/blob/main/Python_basics_Assignment.ipynb\" target=\"_parent\"><img src=\"https://colab.research.google.com/assets/colab-badge.svg\" alt=\"Open In Colab\"/></a>"
      ]
    },
    {
      "cell_type": "markdown",
      "source": [],
      "metadata": {
        "id": "vmAMX9j5ciki"
      }
    },
    {
      "cell_type": "markdown",
      "source": [
        "#Python Basic Assignment\n",
        "Python Basics Questions"
      ],
      "metadata": {
        "id": "xFnpeiqmckl_"
      }
    },
    {
      "cell_type": "markdown",
      "source": [
        "1 What is Python, and why is it popular ?\n",
        "\n",
        "\n",
        "*   Python is a high-level, general-purpose, interpreted programming language known for its simplicity and readability.\n",
        "*   It is popular beacuase\n",
        "1) it's easy to learn and read\n",
        "2) has vast libararies\n",
        "3) Widly used in multiple fields such as Development, Data Science and Analytics and Automation Scripting etc.\n",
        "\n"
      ],
      "metadata": {
        "id": "R4EYOjV6cx5W"
      }
    },
    {
      "cell_type": "markdown",
      "source": [
        "2 What is an interpreter in Python ?\n",
        "\n",
        "\n",
        "*   A python interpreter in Python is a computer program that executes python program line by line, converting it into machine readable code, which allows immediate execution and easier debugging.\n",
        "\n"
      ],
      "metadata": {
        "id": "n0Tqvku0hC6i"
      }
    },
    {
      "cell_type": "markdown",
      "source": [
        "3 What are pre-defined keywords in Python ?\n",
        "\n",
        "\n",
        "*   Predefined keywords in python are reserved words that hold some special meaning and purpose and which is cannot used as indentifer like variable name or function. For e.g. if, from, import, print, def etc.\n",
        "\n"
      ],
      "metadata": {
        "id": "OuhuL49uk5DJ"
      }
    },
    {
      "cell_type": "markdown",
      "source": [],
      "metadata": {
        "id": "IlX4_OabmqW5"
      }
    }
  ]
}