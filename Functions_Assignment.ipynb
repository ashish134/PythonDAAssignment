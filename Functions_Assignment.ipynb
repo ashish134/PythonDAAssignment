{
  "nbformat": 4,
  "nbformat_minor": 0,
  "metadata": {
    "colab": {
      "provenance": [],
      "authorship_tag": "ABX9TyNn/ac2KHsFby2GfkZQUcaL",
      "include_colab_link": true
    },
    "kernelspec": {
      "name": "python3",
      "display_name": "Python 3"
    },
    "language_info": {
      "name": "python"
    }
  },
  "cells": [
    {
      "cell_type": "markdown",
      "metadata": {
        "id": "view-in-github",
        "colab_type": "text"
      },
      "source": [
        "<a href=\"https://colab.research.google.com/github/ashish134/PythonDAAssignment/blob/main/Functions_Assignment.ipynb\" target=\"_parent\"><img src=\"https://colab.research.google.com/assets/colab-badge.svg\" alt=\"Open In Colab\"/></a>"
      ]
    },
    {
      "cell_type": "markdown",
      "source": [
        "#Theory Questions:"
      ],
      "metadata": {
        "id": "Ai349765a3GT"
      }
    },
    {
      "cell_type": "markdown",
      "source": [
        "1. What is the difference between a function and a method in Python?\n",
        "\n",
        "\n",
        "*   A Function is reusable block of code defined using def and can be called independently using its name anywhere.\n",
        "*   Method is a function that is associated with an object and defined inside a class. Can be called using object or class instance\n",
        "\n",
        "\n"
      ],
      "metadata": {
        "id": "pGUwXFNrbP_l"
      }
    },
    {
      "cell_type": "code",
      "source": [
        "# Function Example\n",
        "def Sum_fun(a, b):\n",
        "    return a + b\n",
        "print(Sum_fun(2, 3))\n",
        "#Method Example\n",
        "list1 = [1, 2, 3]\n",
        "list1.append(4)\n",
        "print(list1)"
      ],
      "metadata": {
        "colab": {
          "base_uri": "https://localhost:8080/"
        },
        "id": "kPt1fAeOeZPz",
        "outputId": "5e1be97c-778e-45d6-aabb-08ea0d3a394e"
      },
      "execution_count": null,
      "outputs": [
        {
          "output_type": "stream",
          "name": "stdout",
          "text": [
            "5\n",
            "[1, 2, 3, 4]\n"
          ]
        }
      ]
    },
    {
      "cell_type": "markdown",
      "source": [
        "2. Explain the concept of function arguments and parameters in Python.\n",
        "\n",
        "\n",
        "*   Function parameters are variable names used inside funtion defination to accept input\n",
        "*   Arguments are actual values or data we pass to a funtion while calling it.\n",
        "\n"
      ],
      "metadata": {
        "id": "94yyStZ0d1Ys"
      }
    },
    {
      "cell_type": "code",
      "source": [
        "#Example\n",
        "def greetings(name): #here 'name' is parameter\n",
        "  print('hello',name)\n",
        "greet('Ashish')  #here 'Ashish' is argument"
      ],
      "metadata": {
        "id": "YGsP3vIAhpwM"
      },
      "execution_count": null,
      "outputs": []
    },
    {
      "cell_type": "markdown",
      "source": [
        "3. What are the different ways to define and call a function in Python?\n",
        "\n",
        "\n",
        "*   There are diffrent ways to define and call a function\n",
        "1. Simple Funtion - Here no input is needed just run block of code\n",
        "```\n",
        "# def greeting():\n",
        "  print('hello')\n",
        "  greeting()\n",
        "```   \n",
        "2.  Function with parameters\n",
        "```\n",
        "#  def greeting('name'):\n",
        "  print('hello')\n",
        "  greeting('Ashish')\n",
        "```\n",
        "3.   Function with Lambda (anonymous) Function\n",
        "it is used for small one-line functions without any name\n",
        "```\n",
        "# square = lambda x: x * x   \n",
        "print(square(4))  \n",
        "```\n",
        "4. Function with variable lenth argument. It basically allows us to pass positional argument such list\n",
        "```\n",
        "# def greet_all(*names):\n",
        "    for name in names:\n",
        "        print(\"Hello\", name)\n",
        "greet_all(\"Ashish\", \"Priya\", \"Singh\")\n",
        "```\n",
        "\n",
        "\n",
        "\n",
        "\n",
        "\n",
        "\n",
        "\n",
        "\n",
        "\n",
        "\n",
        "\n",
        "\n",
        "\n",
        "\n"
      ],
      "metadata": {
        "id": "ehAHx3-niDfS"
      }
    },
    {
      "cell_type": "markdown",
      "source": [
        "4. What is the purpose of the `return` statement in a Python function?\n",
        "*   The 'return' statement is used to end the exit and send value to caller perform from function. def fun(a,b) return a+b\n",
        "\n"
      ],
      "metadata": {
        "id": "jMdkRpDXmmN_"
      }
    },
    {
      "cell_type": "markdown",
      "source": [
        "5. What are iterators in Python and how do they differ from iterables?\n",
        "*   Iterators are the object with a next() menthod that return the next items.\n",
        "*   Iterables are the object capable of returning its members one at a time like lists, tuples.\n",
        "Iterable example: a string\n",
        "text = \"Hi\"\n",
        "Create an iterator from the iterable\n",
        "iterator = iter(text)\n",
        "print(next(iterator))  # Output: H\n"
      ],
      "metadata": {
        "id": "KPq9EGJKo5GB"
      }
    },
    {
      "cell_type": "markdown",
      "source": [
        "6. Explain the concept of generators in Python and how they are defined.  \n",
        "*   Generators are functions that generate a sequence of values at a time when needed using yield.\n",
        "*   Generators help saving memory as they dont store entire sequence in memory which make it suitable for larger sequences.\n",
        "```\n",
        "# def cnt(n):\n",
        "    i = 1\n",
        "    while i <= n:\n",
        "        yield i\n",
        "        i += 1\n",
        "```"
      ],
      "metadata": {
        "id": "XaYByntcqqob"
      }
    },
    {
      "cell_type": "markdown",
      "source": [
        "7. What are the advantages of using generators over regular functions?\n",
        "*   Generators use less memory by yielding items one at a time instead of creating and storing the entire result at once.\n",
        "*   This allows efficient handling of large data which leads to faster execution cleaner and readable code.\n",
        "\n",
        "\n"
      ],
      "metadata": {
        "id": "DwGRm5_RvqXI"
      }
    },
    {
      "cell_type": "markdown",
      "source": [
        "8. What is a lambda function in Python and when is it typically used?\n",
        "*   A lambda function in python is a concise way to create anonymous functions, also known\n",
        "as lambda expressions. Lambda functions are often used for short- term operations and are\n",
        "defined in a single line. Example - add = lambda x,y:x+y result = add(5,6) print(result)\n",
        "outpu:11\n",
        "\n",
        "\n"
      ],
      "metadata": {
        "id": "MVVbDgY019J2"
      }
    },
    {
      "cell_type": "markdown",
      "source": [
        "9. Explain the purpose and usage of the `map()` function in Python.\n",
        "*   The map function is used to apply a function to each element iterable like a list and the item is sent to the function as a parameter. It starts by applying the function to the first items , then second items and so on.\n",
        "nums = [1, 2, 3]\n",
        "doubled = map(lambda x: x * 2, nums)\n",
        "print(list(doubled))  Output: [2, 4, 6]"
      ],
      "metadata": {
        "id": "iJXOxBwN2qk8"
      }
    },
    {
      "cell_type": "markdown",
      "source": [
        "10. What is the difference between `map()`, `reduce()`, and `filter()` functions in Python?\n",
        "*   Map() - Executes a specified function for each of item of an iterable. Example:\n",
        "num_as_strings = [“2”,“4”,“6”,“8”] num_as_integers = list(map(int,num_as_strings))\n",
        "print(num_as_integers) #output: [2,4,6,8]\n",
        "\n",
        "*   Reduce() - It implements a mathematical technique commonly known as ‘folding’ or ‘reduction’. It is a process where you reduce a list of items to a single value( cumulative value). Example: from functools import reduce num = [1,2,3,4] total_sum = reduce(lambda( x,y:x+y,\n",
        "num)) print(total_sum) #output: 10\n",
        "*  Filter() - It is used to filter elements from an iterable based on some condition. Example: l1\n",
        "=[-1,-2,3,4,5] list(filter(lambda x: x<0,l1))\n",
        "output: [-1,-2]\n"
      ],
      "metadata": {
        "id": "hw8-evlT46u1"
      }
    },
    {
      "cell_type": "markdown",
      "source": [
        "11. Using pen & Paper write the internal mechanism for sum operation using  reduce function on this given\n",
        "list:[47,11,42,13];\n",
        "*   Attaching the image below for same in google doc"
      ],
      "metadata": {
        "id": "S0S74pwh5N18"
      }
    },
    {
      "cell_type": "markdown",
      "source": [
        "#Practical Questions:"
      ],
      "metadata": {
        "id": "umYy3bQU6F8M"
      }
    },
    {
      "cell_type": "code",
      "source": [
        "# 1. Write a Python function that takes a list of numbers as input and returns the sum of all even numbers in the list.\n",
        "numbers = [34, 5, 2, 4, 10, 9, 3]\n",
        "def sumeven(numbers):\n",
        "    Sum_of_Even = 0\n",
        "    for num in numbers:\n",
        "        if num % 2 == 0:\n",
        "            Sum_of_Even += num\n",
        "    return Sum_of_Even\n",
        "print(sumeven(numbers))"
      ],
      "metadata": {
        "colab": {
          "base_uri": "https://localhost:8080/"
        },
        "id": "bOYLBCgx6LJH",
        "outputId": "2d6b59e3-833a-4b8b-928a-e759d1912bdf"
      },
      "execution_count": null,
      "outputs": [
        {
          "output_type": "stream",
          "name": "stdout",
          "text": [
            "50\n"
          ]
        }
      ]
    },
    {
      "cell_type": "code",
      "source": [
        "#2. Create a Python function that accepts a string and returns the reverse of that string.\n",
        "def reverse_string(string):\n",
        "    return string[::-1]\n",
        "print(reverse_string('Ashish'))"
      ],
      "metadata": {
        "colab": {
          "base_uri": "https://localhost:8080/"
        },
        "id": "r0YsOUsQ-W_0",
        "outputId": "9d4f54ac-44f5-4d94-f977-d3d6a6de42c3"
      },
      "execution_count": null,
      "outputs": [
        {
          "output_type": "stream",
          "name": "stdout",
          "text": [
            "hsihsA\n"
          ]
        }
      ]
    },
    {
      "cell_type": "code",
      "source": [
        "#3. Implement a Python function that takes a list of integers and returns a new list containing the squares of each number.\n",
        "def sq_of_int(integers):\n",
        "  return [integers**2 for integers in integers]\n",
        "sq_of_int([2,5,7,9,11])\n"
      ],
      "metadata": {
        "colab": {
          "base_uri": "https://localhost:8080/"
        },
        "id": "0f4uDnvd_JFT",
        "outputId": "304ac836-5515-46d5-f4a1-53587dc5eca2"
      },
      "execution_count": null,
      "outputs": [
        {
          "output_type": "execute_result",
          "data": {
            "text/plain": [
              "[4, 25, 49, 81, 121]"
            ]
          },
          "metadata": {},
          "execution_count": 14
        }
      ]
    },
    {
      "cell_type": "code",
      "source": [
        "#4. Write a Python function that checks if a given number is prime or not from 1 to 200.\n",
        "def is_prime_num(n):\n",
        "    if n <= 1:\n",
        "        return False\n",
        "    for i in range(2, int(n**0.5) + 1):\n",
        "        if n % i == 0:\n",
        "            return False\n",
        "    return True\n",
        "print(is_prime_num(197))"
      ],
      "metadata": {
        "colab": {
          "base_uri": "https://localhost:8080/"
        },
        "id": "gd79rwyO_qwc",
        "outputId": "e87c7b0e-4f49-4e37-c624-f0aae10ba1f0"
      },
      "execution_count": null,
      "outputs": [
        {
          "output_type": "stream",
          "name": "stdout",
          "text": [
            "True\n"
          ]
        }
      ]
    },
    {
      "cell_type": "code",
      "source": [
        "#5. Create an iterator class in Python that generates the Fibonacci sequence up to a specified number of terms.\n",
        "def generate_fibonacci():\n",
        "    x, y = 0, 1\n",
        "    while True:\n",
        "        yield x\n",
        "        x, y = y, x + y\n",
        "fib_sequence = generate_fibonacci()\n",
        "for _ in range(10):\n",
        "    print(next(fib_sequence))"
      ],
      "metadata": {
        "colab": {
          "base_uri": "https://localhost:8080/"
        },
        "id": "Yes4C416AOTC",
        "outputId": "ad7cb94f-88a2-4754-9af9-b86eb88c7822"
      },
      "execution_count": null,
      "outputs": [
        {
          "output_type": "stream",
          "name": "stdout",
          "text": [
            "0\n",
            "1\n",
            "1\n",
            "2\n",
            "3\n",
            "5\n",
            "8\n",
            "13\n",
            "21\n",
            "34\n"
          ]
        }
      ]
    },
    {
      "cell_type": "code",
      "source": [
        "#  6. Write a generator function in Python that yields the powers of 2 up to a given exponent.\n",
        "def power_of_two(exponent):\n",
        "    for i in range(exponent + 1):\n",
        "        yield 2 ** i\n",
        "for power in power_of_two(5):\n",
        "    print(power)"
      ],
      "metadata": {
        "colab": {
          "base_uri": "https://localhost:8080/"
        },
        "id": "Dv3NiduiBnJH",
        "outputId": "f4e88284-571d-4841-a9e0-93a27c9864fa"
      },
      "execution_count": null,
      "outputs": [
        {
          "output_type": "stream",
          "name": "stdout",
          "text": [
            "1\n",
            "2\n",
            "4\n",
            "8\n",
            "16\n",
            "32\n"
          ]
        }
      ]
    },
    {
      "cell_type": "code",
      "source": [
        "# 7. Implement a generator function that reads a file line by line and yields each line as a string.\n",
        "def read_file_lines(file_path):\n",
        "    with open(file_path, 'r') as file:\n",
        "        for line in file:\n",
        "            yield line.strip()\n"
      ],
      "metadata": {
        "id": "525a4DitByjB"
      },
      "execution_count": null,
      "outputs": []
    },
    {
      "cell_type": "code",
      "source": [
        "# 8. Use a lambda function in Python to sort a list of tuples based on the second element of each tuple.\n",
        "data = [(1, 5), (3, 2), (2, 8), (5, 1)]\n",
        "sorted_data = sorted(data, key=lambda x: x[1])\n",
        "print(sorted_data)"
      ],
      "metadata": {
        "colab": {
          "base_uri": "https://localhost:8080/"
        },
        "id": "fx1NHfUeC2PJ",
        "outputId": "3bccc068-fb60-4509-fe32-37f1ff7b65e8"
      },
      "execution_count": null,
      "outputs": [
        {
          "output_type": "stream",
          "name": "stdout",
          "text": [
            "[(5, 1), (3, 2), (1, 5), (2, 8)]\n"
          ]
        }
      ]
    },
    {
      "cell_type": "code",
      "source": [
        "# 9. Write a Python program that uses `map()` to convert a list of temperatures from Celsius to Fahrenheit.\n",
        "celsius_temperatures = [0, 10, 20, 30, 40]\n",
        "fahrenheit_temperatures = list(map(lambda c: (c * 9/5) + 32, celsius_temperatures))\n",
        "print(fahrenheit_temperatures)"
      ],
      "metadata": {
        "colab": {
          "base_uri": "https://localhost:8080/"
        },
        "id": "We7va78MC9R8",
        "outputId": "48eb0cfd-8559-4369-d1ad-e0d99580b836"
      },
      "execution_count": null,
      "outputs": [
        {
          "output_type": "stream",
          "name": "stdout",
          "text": [
            "[32.0, 50.0, 68.0, 86.0, 104.0]\n"
          ]
        }
      ]
    },
    {
      "cell_type": "code",
      "source": [
        "# 10. Create a Python program that uses `filter()` to remove all the vowels from a given string.\n",
        "string = \"Hello, World!\"\n",
        "vowels = 'aeiouAEIOU'\n",
        "filtered_string = ''.join(filter(lambda x: x not in vowels, string))\n",
        "print(filtered_string)"
      ],
      "metadata": {
        "colab": {
          "base_uri": "https://localhost:8080/"
        },
        "id": "w4Iob398DNjU",
        "outputId": "f971e09b-cab3-48a0-aed2-94ecd1927b7f"
      },
      "execution_count": null,
      "outputs": [
        {
          "output_type": "stream",
          "name": "stdout",
          "text": [
            "Hll, Wrld!\n"
          ]
        }
      ]
    },
    {
      "cell_type": "code",
      "source": [
        "##11 Imagine an accounting routine used in a book shop. It works on a list with sublists, which look like this:\n",
        "'''' Order Number Book Title and Author Quantity ␣\n",
        "↪ Price per Item\n",
        "34587 Learning Python, Mark Lutz 4 ␣\n",
        "↪ 40.95\n",
        "98762 Programming Python, Mark Lutz 5 ␣\n",
        "↪ 56.80\n",
        "77226 Head First Python, Paul Barry 3 ␣\n",
        "↪ 32.95\n",
        "88112 EinfUhrung in Python, Bernd Klein 3 ␣\n",
        "↪ 24.99\n",
        "Write a python program, which returns a list with 2-tuples. Each tuple␣\n",
        "↪consists of the order number and the product of the price per item and the␣\n",
        "↪quantity. The product should be increased by 10,- if the value of the order␣\n",
        "↪is smaller than 100.00\n",
        "Write a python program using lambda and map.'''\n",
        "orders = [\n",
        "    [34587, \"Learning Python, Mark Lutz\", 4, 40.95],\n",
        "    [98762, \"Programming Python, Mark Lutz\", 5, 56.80],\n",
        "    [77226, \"Head First Python, Paul Barry\", 3, 32.95],\n",
        "    [88112, \"Einfuhrung in Python3, Bernd Klein\", 3, 24.99]\n",
        "]\n",
        "\n",
        "\n",
        "order_totals = list(map(lambda order:\n",
        "    (order[0], order[2] * order[3] + 10 if order[2] * order[3] < 100 else order[2] * order[3]), orders))\n",
        "\n",
        "print(order_totals)"
      ],
      "metadata": {
        "colab": {
          "base_uri": "https://localhost:8080/"
        },
        "id": "mxfqFNsODv9z",
        "outputId": "b9b3f2dd-202c-470b-a892-2e2501b9a987"
      },
      "execution_count": null,
      "outputs": [
        {
          "output_type": "stream",
          "name": "stdout",
          "text": [
            "[(34587, 163.8), (98762, 284.0), (77226, 108.85000000000001), (88112, 84.97)]\n"
          ]
        }
      ]
    },
    {
      "cell_type": "markdown",
      "source": [],
      "metadata": {
        "id": "JgXdyWYzDqiR"
      }
    }
  ]
}